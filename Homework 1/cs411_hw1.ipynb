{
  "nbformat": 4,
  "nbformat_minor": 0,
  "metadata": {
    "colab": {
      "name": "cs411_hw1.ipynb",
      "provenance": [],
      "collapsed_sections": []
    },
    "kernelspec": {
      "name": "python3",
      "display_name": "Python 3"
    },
    "language_info": {
      "name": "python"
    }
  },
  "cells": [
    {
      "cell_type": "markdown",
      "metadata": {
        "id": "COPsQxgKMh4f"
      },
      "source": [
        "# Problem 1"
      ]
    },
    {
      "cell_type": "code",
      "metadata": {
        "colab": {
          "base_uri": "https://localhost:8080/"
        },
        "id": "TitRIfBlJDqi",
        "outputId": "c6047d90-1a37-4c07-9f4c-c22bcb52da8d"
      },
      "source": [
        "print('--------- problem 1 start ---------')"
      ],
      "execution_count": 1,
      "outputs": [
        {
          "output_type": "stream",
          "name": "stdout",
          "text": [
            "--------- problem 1 start ---------\n"
          ]
        }
      ]
    },
    {
      "cell_type": "code",
      "metadata": {
        "id": "vdlGNencpONu"
      },
      "source": [
        "cipher = \"NKWZ\"\n",
        "plaintext = \"\""
      ],
      "execution_count": 11,
      "outputs": []
    },
    {
      "cell_type": "code",
      "metadata": {
        "colab": {
          "base_uri": "https://localhost:8080/"
        },
        "id": "gRgwKumTp_7m",
        "outputId": "3f2fc943-8a7a-428f-9d5a-1550e0055628"
      },
      "source": [
        "for key in range(0, 26): # iterating over each possible keys\n",
        "  for letter in cipher:\n",
        "    int_char = ord(letter) - key  # obtaining integer equalivent of the decrypted characther\n",
        "    if(int_char < 65):          # Since i work with ASCII in this question if integer equalivent of the decrypted char is smaller than 'A' = 65 i apply + 26, it is basically modulo operation\n",
        "      int_char = int_char + 26  # as i described above comment, it is basically modulo operation\n",
        "\n",
        "    encrypted_char = chr(int_char) # converting the founded integer (founded with key) to char\n",
        "    plaintext = plaintext + encrypted_char # we add characther to plaintext\n",
        "\n",
        "  print(\"key: \", key, chr(key+65), \"  plaintext: \", plaintext) # after whole cipher-text decrypted for the current key, we print the corresponding plaintext\n",
        "  plaintext = \"\"                                               # then we reset the plaintext for the next key.\n"
      ],
      "execution_count": 23,
      "outputs": [
        {
          "output_type": "stream",
          "name": "stdout",
          "text": [
            "key:  0 A   plaintext:  NKWZ\n",
            "key:  1 B   plaintext:  MJVY\n",
            "key:  2 C   plaintext:  LIUX\n",
            "key:  3 D   plaintext:  KHTW\n",
            "key:  4 E   plaintext:  JGSV\n",
            "key:  5 F   plaintext:  IFRU\n",
            "key:  6 G   plaintext:  HEQT\n",
            "key:  7 H   plaintext:  GDPS\n",
            "key:  8 I   plaintext:  FCOR\n",
            "key:  9 J   plaintext:  EBNQ\n",
            "key:  10 K   plaintext:  DAMP\n",
            "key:  11 L   plaintext:  CZLO\n",
            "key:  12 M   plaintext:  BYKN\n",
            "key:  13 N   plaintext:  AXJM\n",
            "key:  14 O   plaintext:  ZWIL\n",
            "key:  15 P   plaintext:  YVHK\n",
            "key:  16 Q   plaintext:  XUGJ\n",
            "key:  17 R   plaintext:  WTFI\n",
            "key:  18 S   plaintext:  VSEH\n",
            "key:  19 T   plaintext:  URDG\n",
            "key:  20 U   plaintext:  TQCF\n",
            "key:  21 V   plaintext:  SPBE\n",
            "key:  22 W   plaintext:  ROAD\n",
            "key:  23 X   plaintext:  QNZC\n",
            "key:  24 Y   plaintext:  PMYB\n",
            "key:  25 Z   plaintext:  OLXA\n"
          ]
        }
      ]
    },
    {
      "cell_type": "code",
      "metadata": {
        "colab": {
          "base_uri": "https://localhost:8080/"
        },
        "id": "6x0qUySoJS5W",
        "outputId": "b329a8e8-ad65-4269-f58d-0fdf2ef0938c"
      },
      "source": [
        "print(\"key 22 'W': ROAD\")\n",
        "print(\"key 10 'K': DAMP\")"
      ],
      "execution_count": 24,
      "outputs": [
        {
          "output_type": "stream",
          "name": "stdout",
          "text": [
            "key 22 'W': ROAD\n",
            "key 10 'K': DAMP\n"
          ]
        }
      ]
    },
    {
      "cell_type": "code",
      "metadata": {
        "colab": {
          "base_uri": "https://localhost:8080/"
        },
        "id": "Gpt0sB9DJUFM",
        "outputId": "07f31f52-644f-4f09-a04a-be168a629c4d"
      },
      "source": [
        "print('--------- problem 1 finish ---------')"
      ],
      "execution_count": 2,
      "outputs": [
        {
          "output_type": "stream",
          "name": "stdout",
          "text": [
            "--------- problem 1 finish ---------\n"
          ]
        }
      ]
    },
    {
      "cell_type": "markdown",
      "metadata": {
        "id": "vXg8SufXMnkl"
      },
      "source": [
        "# Problem 2\n"
      ]
    },
    {
      "cell_type": "code",
      "metadata": {
        "colab": {
          "base_uri": "https://localhost:8080/"
        },
        "id": "aHM13o3WJXa1",
        "outputId": "8e5ffbfa-667f-4723-c0fa-1703009c56cd"
      },
      "source": [
        "print('--------- problem 2 start ---------')"
      ],
      "execution_count": 3,
      "outputs": [
        {
          "output_type": "stream",
          "name": "stdout",
          "text": [
            "--------- problem 2 start ---------\n"
          ]
        }
      ]
    },
    {
      "cell_type": "code",
      "metadata": {
        "id": "rCz7bs_t12Zn"
      },
      "source": [
        "cipher = \"REZANSZ JRE VRDB CLXGNOZ. NEMZ R TOBRG VRE JRE HOLGB LG.\"\n",
        "plaintext = \"\"\n",
        "letter_count = {'A':0, 'B':0, 'C':0, 'D':0, 'E':0, 'F':0, 'G':0, 'H':0, 'I':0,\n",
        "                'J':0, 'K':0, 'L':0, 'M':0, 'N':0, 'O':0, 'P':0, 'Q':0,\n",
        "                'R':0, 'S':0,  'T':0, 'U':0, 'V':0, 'W':0, 'X':0, 'Y':0, 'Z':0, ' ': -999, '.': -999}\n",
        "\n",
        "letters = {'A':0, 'B':1, 'C':2, 'D':3, 'E':4, 'F':5, 'G':6, 'H':7, 'I':8,\n",
        "           'J':9, 'K':10, 'L':11, 'M':12, 'N':13, 'O':14, 'P':15, 'Q':16,\n",
        "           'R':17, 'S':18,  'T':19, 'U':20, 'V':21, 'W':22, 'X':23, 'Y':24,\n",
        "           'Z':25}\n",
        "\n",
        "inv_letters = {0:'A', 1:'B', 2:'C', 3:'D', 4:'E', 5:'F', 6:'G', 7:'H',\n",
        "               8:'I', 9:'J', 10:'K', 11:'L', 12:'M', 13:'N', 14:'O', 15:'P',\n",
        "              16:'Q', 17:'R', 18:'S', 19:'T', 20:'U', 21:'V', 22:'W', 23:'X',\n",
        "              24:'Y', 25:'Z'}"
      ],
      "execution_count": null,
      "outputs": []
    },
    {
      "cell_type": "code",
      "metadata": {
        "id": "FW51QXMW3TWa"
      },
      "source": [
        "# calculating the number of repetations for each characthers\n",
        "for letter in cipher:\n",
        "  letter_count[letter] += 1"
      ],
      "execution_count": null,
      "outputs": []
    },
    {
      "cell_type": "code",
      "metadata": {
        "colab": {
          "base_uri": "https://localhost:8080/"
        },
        "id": "KcMlSQWT5EYY",
        "outputId": "6db10a28-de7e-405c-99dc-6b69274ce04a"
      },
      "source": [
        "max_occurance = max(letter_count, key=letter_count.get) # getting the most repeated key in the dictionary\n",
        "print(\"The most frequent letter in cipher:\", max_occurance)"
      ],
      "execution_count": null,
      "outputs": [
        {
          "output_type": "stream",
          "name": "stdout",
          "text": [
            "The most frequent letter in cipher: R\n"
          ]
        }
      ]
    },
    {
      "cell_type": "code",
      "metadata": {
        "colab": {
          "base_uri": "https://localhost:8080/"
        },
        "id": "fIqUm9N05djY",
        "outputId": "68b44d9a-42b2-4163-eed8-f5f2de796d38"
      },
      "source": [
        "beta = letters['R'] - letters['A']\n",
        "print(beta)"
      ],
      "execution_count": null,
      "outputs": [
        {
          "output_type": "stream",
          "name": "stdout",
          "text": [
            "17\n"
          ]
        }
      ]
    },
    {
      "cell_type": "code",
      "metadata": {
        "id": "ntl0086GaGcG"
      },
      "source": [
        "def egcd(a, b):\n",
        "    if a == 0:\n",
        "        return (b, 0, 1)\n",
        "    else:\n",
        "        g, y, x = egcd(b % a, a)\n",
        "        return (g, x - (b // a) * y, y)\n",
        "\n",
        "def modinv(a, m):\n",
        "    g, x, y = egcd(a, m)\n",
        "    if g != 1:\n",
        "      raise Exception('modular inverse does not exist')\n",
        "    else:\n",
        "      print(\"alpha:\", a, \" - gamma:\", x%m)\n",
        "      return x % m"
      ],
      "execution_count": null,
      "outputs": []
    },
    {
      "cell_type": "code",
      "metadata": {
        "colab": {
          "base_uri": "https://localhost:8080/"
        },
        "id": "oVvsxGLxaL09",
        "outputId": "eabdcb24-f217-403e-b4c8-8cd827c65722"
      },
      "source": [
        "# gcd(alpha, 26) should be 1, so the possible alphas are;\n",
        "alpha_keys = [1, 3, 5, 7, 9, 11, 15, 17, 19, 21, 23, 25]\n",
        "gamma = 0\n",
        "\n",
        "gamma_keys = []\n",
        "\n",
        "# we calculate modulo inverse of alphas which are gamma keys. We print alpha key corresponding gamma key\n",
        "for alpha in alpha_keys:\n",
        "  gamma_keys.append(modinv(alpha, 26))\n"
      ],
      "execution_count": null,
      "outputs": [
        {
          "output_type": "stream",
          "name": "stdout",
          "text": [
            "alpha: 1  - gamma: 1\n",
            "alpha: 3  - gamma: 9\n",
            "alpha: 5  - gamma: 21\n",
            "alpha: 7  - gamma: 15\n",
            "alpha: 9  - gamma: 3\n",
            "alpha: 11  - gamma: 19\n",
            "alpha: 15  - gamma: 7\n",
            "alpha: 17  - gamma: 23\n",
            "alpha: 19  - gamma: 11\n",
            "alpha: 21  - gamma: 5\n",
            "alpha: 23  - gamma: 17\n",
            "alpha: 25  - gamma: 25\n"
          ]
        }
      ]
    },
    {
      "cell_type": "code",
      "metadata": {
        "colab": {
          "base_uri": "https://localhost:8080/"
        },
        "id": "SZ_RG-9fcaM1",
        "outputId": "9f28c281-6a84-40b7-91df-ec796ffb7fc6"
      },
      "source": [
        "gamma_keys"
      ],
      "execution_count": null,
      "outputs": [
        {
          "output_type": "execute_result",
          "data": {
            "text/plain": [
              "[1, 9, 21, 15, 3, 19, 7, 23, 11, 5, 17, 25]"
            ]
          },
          "metadata": {},
          "execution_count": 65
        }
      ]
    },
    {
      "cell_type": "code",
      "metadata": {
        "colab": {
          "base_uri": "https://localhost:8080/"
        },
        "id": "bD9sp2cO5xER",
        "outputId": "a36b5e55-9776-46d7-d68e-97c9b33fc3c2"
      },
      "source": [
        "for g in gamma_keys: \n",
        "  for char in cipher:\n",
        "    if(char == ' '):  # we assume space char did not be encyrpted so we pass it\n",
        "      plaintext += ' '\n",
        "    elif(char == '.'): # we assume '.' char did not be encyrpted so we pass it\n",
        "      plaintext += '.'\n",
        "    else:\n",
        "      tetha = 26-(g*beta)%26  # we calculating theta with the current gamma and founded beta\n",
        "      plaintext_char = (letters[char]*g + tetha) % 26 # we apply keys\n",
        "      plaintext += inv_letters[plaintext_char] # we convert decyrpted char (which is integer), to characther\n",
        "  \n",
        "  # we print key pairs and decyrpted text then we reset the plaintext for the next key pair try.\n",
        "  print(\"gamma:\",g, \"  -  \" \"tetha:\", tetha)\n",
        "  print(plaintext, \"\\n\")\n",
        "  plaintext = \"\"\n",
        "\n"
      ],
      "execution_count": null,
      "outputs": [
        {
          "output_type": "stream",
          "name": "stdout",
          "text": [
            "gamma: 1   -  tetha: 9\n",
            "ANIJWBI SAN EAMK LUGPWXI. WNVI A CXKAP EAN SAN QXUPK UP. \n",
            "\n",
            "gamma: 9   -  tetha: 3\n",
            "ANUDQJU GAN KAEM VYCFQZU. QNHU A SZMAF KAN GAN OZYFM YF. \n",
            "\n",
            "gamma: 21   -  tetha: 7\n",
            "ANMHUVM OAN GASC XEWDUPM. UNZM A QPCAD GAN OAN YPEDC ED. \n",
            "\n",
            "gamma: 15   -  tetha: 5\n",
            "ANQFSPQ KAN IAYU JOMRSHQ. SNDQ A EHUAR IAN KAN GHORU OR. \n",
            "\n",
            "gamma: 3   -  tetha: 1\n",
            "ANYBODY CAN MAKE HISTORY. ONLY A GREAT MAN CAN WRITE IT. \n",
            "\n",
            "gamma: 19   -  tetha: 15\n",
            "ANWPCTW EAN YAUI BQKZCVW. CNJW A MVIAZ YAN EAN SVQZI QZ. \n",
            "\n",
            "gamma: 7   -  tetha: 11\n",
            "ANELYHE WAN CAGS ZKQBYFE. YNRE A OFSAB CAN WAN IFKBS KB. \n",
            "\n",
            "gamma: 23   -  tetha: 25\n",
            "ANCZMXC YAN OAQW TSIHMJC. MNPC A UJWAH OAN YAN EJSHW SH. \n",
            "\n",
            "gamma: 11   -  tetha: 21\n",
            "ANKVILK QAN SACG RMOJITK. INXK A WTGAJ SAN QAN UTMJG MJ. \n",
            "\n",
            "gamma: 5   -  tetha: 19\n",
            "ANOTGFO MAN UAIY DWEXGLO. GNBO A KLYAX UAN MAN CLWXY WX. \n",
            "\n",
            "gamma: 17   -  tetha: 23\n",
            "ANGXKRG UAN QAWO FCYVKBG. KNTG A IBOAV QAN UAN MBCVO CV. \n",
            "\n",
            "gamma: 25   -  tetha: 17\n",
            "ANSREZS IAN WAOQ PGULEDS. ENFS A YDQAL WAN IAN KDGLQ GL. \n",
            "\n"
          ]
        }
      ]
    },
    {
      "cell_type": "code",
      "metadata": {
        "colab": {
          "base_uri": "https://localhost:8080/"
        },
        "id": "UCSBWL1Ii2sl",
        "outputId": "e6b01d96-13f4-4e21-fa0c-d24baac76949"
      },
      "source": [
        "gamma = 3\n",
        "alpha = 9 # we printed alpha gamma pairs in inverse modulo function, so if we check the output, we see that when gamma is 3, alpha is 9\n",
        "tetha = 1\n",
        "print(\"decryption key pair is: \", \"(\", gamma, \",\", tetha, \")\", \"--> (gamma,tetha)\")\n",
        "print(\"encryption key pari is: \", \"(\", alpha, \",\", beta, \")\", \"--> (alpha,beta)\")"
      ],
      "execution_count": null,
      "outputs": [
        {
          "output_type": "stream",
          "name": "stdout",
          "text": [
            "decryption key pair is:  ( 3 , 1 ) --> (gamma,tetha)\n",
            "encryption key pari is:  ( 9 , 17 ) --> (alpha,beta)\n"
          ]
        }
      ]
    },
    {
      "cell_type": "code",
      "metadata": {
        "colab": {
          "base_uri": "https://localhost:8080/"
        },
        "id": "jZgnU5ReJZ5l",
        "outputId": "b9193f4c-f776-4c70-b5dc-91509526fee5"
      },
      "source": [
        "print('--------- problem 2 finish ---------')"
      ],
      "execution_count": 4,
      "outputs": [
        {
          "output_type": "stream",
          "name": "stdout",
          "text": [
            "--------- problem 2 finish ---------\n"
          ]
        }
      ]
    },
    {
      "cell_type": "markdown",
      "metadata": {
        "id": "xqxodvMQWhme"
      },
      "source": [
        "# Problem 3"
      ]
    },
    {
      "cell_type": "code",
      "metadata": {
        "colab": {
          "base_uri": "https://localhost:8080/"
        },
        "id": "bLYTfblrJcQq",
        "outputId": "63974bb6-f9f3-4c14-b29a-9ef2271ab737"
      },
      "source": [
        "print('--------- problem 3 start ---------')"
      ],
      "execution_count": 5,
      "outputs": [
        {
          "output_type": "stream",
          "name": "stdout",
          "text": [
            "--------- problem 3 start ---------\n"
          ]
        }
      ]
    },
    {
      "cell_type": "code",
      "metadata": {
        "id": "Q5CrkpRhmMF6"
      },
      "source": [
        "import requests # if this lib isn't installed yet --> pip install requests or pip3 intall requests\n",
        "\n",
        "\n",
        "### DO NOT CHANGE HERE ######\n",
        "\n",
        "API_URL = 'http://cryptlygos.pythonanywhere.com' # DO NOT change url \n",
        "\n",
        "def getCipher(my_id):\n",
        "    endpoint = '{}/{}/{}'.format(API_URL, \"affine_game\", my_id )\n",
        "    response = requests.get(endpoint) \t#get your ciphertext and most freq. letter\n",
        "    ctext, letter = \"\", \"\"\n",
        "    if response.ok:\t#if you get your ciphertext succesfully\n",
        "        c = response.json()\n",
        "        ctext = c[0]    #this is your ciphertext\n",
        "        letter = c[1] \t#the most frequent letter in your plaintext\n",
        "    elif(response.status_code == 404):\n",
        "        print(\"We dont have a student with this ID. Check your id num\")\n",
        "    else:\n",
        "        print(\"It was supposed to work:( Contact your TA\")\n",
        "    \n",
        "    return ctext, letter\n",
        "    \n",
        "    \n",
        "def sendMessage(my_id, plaintext):    \n",
        "    endpoint = '{}/{}/{}/{}'.format(API_URL, \"affine_game\", my_id, plaintext)\n",
        "    response = requests.put(endpoint)\n",
        "    if response.ok:\n",
        "        c = response.json()\n",
        "        print(c)\n",
        "    elif(response.status_code == 404):\n",
        "        print(\"Nope, Try again\")\n",
        "    elif(response.status_code == 401):\n",
        "        print(\"Check your ID number\")\n",
        "    else:\n",
        "        print(\"How did you get in here? Contact your TA\")"
      ],
      "execution_count": null,
      "outputs": []
    },
    {
      "cell_type": "code",
      "metadata": {
        "colab": {
          "base_uri": "https://localhost:8080/"
        },
        "id": "12jiueulol3k",
        "outputId": "2aed9368-5f4c-4cc9-c7f1-4692220c936e"
      },
      "source": [
        "def egcd(a, b):\n",
        "    if a == 0:\n",
        "        return (b, 0, 1)\n",
        "    else:\n",
        "        g, y, x = egcd(b % a, a)\n",
        "        return (g, x - (b // a) * y, y)\n",
        "\n",
        "def modinv(a, m):\n",
        "    g, x, y = egcd(a, m)\n",
        "    if g != 1:\n",
        "      print('modular inverse does not exist for alpha =', a)\n",
        "    else:\n",
        "      print(\"alpha:\", a, \" - gamma:\", x%m)\n",
        "      return x % m\n",
        "\n",
        "\n",
        "if __name__ == '__main__':\n",
        "    my_id = 25139\t# change this to your id number. it should be 5 digit number\n",
        "    \n",
        "    cipher_text, most_frequent_letter = getCipher(my_id)\n",
        "    print(\"Cipher text is: \", cipher_text)\n",
        "    \"\"\"\n",
        "    Use the ciphertext and the most frequent letter of the ciphertext\n",
        "    Find the plaintext.\n",
        "    And assing it to below variable named plainText \n",
        "    If your answer is correct it prints out \"Congrats\"\n",
        "    \n",
        "    \"\"\"\n",
        "    plainText = \"\"\n",
        "\n",
        "    letters = {'A':0, 'B':1, 'C':2, 'Ç':3, 'D':4, 'E':5, 'F':6, 'G':7, 'Ğ':8, 'H':9, 'I':10, \n",
        "               'İ': 11, 'J':12, 'K':13, 'L':14, 'M':15, 'N':16, 'O':17, 'Ö':18, 'P':19, \n",
        "               'R':20, 'S':21, 'Ş':22, 'T':23, 'U':24, 'Ü':25, 'V':26, 'Y':27, 'Z':28, '.':29, ',':30}\n",
        "\n",
        "    inv_letters = {0:'A', 1:'B', 2:'C', 3:'Ç', 4:'D', 5:'E', 6:'F', 7:'G', 8:'Ğ', 9:'H', 10:'I', \n",
        "                   11:'İ', 12:'J', 13:'K', 14:'L', 15:'M', 16:'N', 17:'O', 18:'Ö', 19:'P', \n",
        "                   20:'R', 21:'S', 22:'Ş', 23:'T', 24:'U', 25:'Ü', 26:'V', 27:'Y', 28:'Z', 29:'.', 30:','}\n",
        "\n",
        "    letter_count = {'A':0, 'B':0, 'C':0, 'Ç':0, 'D':0, 'E':0, 'F':0, 'G':0, 'Ğ':0, 'H':0, 'I':0, \n",
        "                    'İ': 0, 'J':0, 'K':0, 'L':0, 'M':0, 'N':0, 'O':0, 'Ö':0, 'P':0, \n",
        "                    'R':0, 'S':0, 'Ş':0, 'T':0, 'U':0, 'Ü':0, 'V':0, 'Y':0, 'Z':0, '.':0, ',':0, ' ': -9999, \"'\":-9999}\n",
        "\n",
        "    # gcd(a, 31) should be 1 so, possible alpha keys are;\n",
        "    alpha_keys = [1,2,3,4,5,6,7,8,9,10,11,12,13,14,15,16,17,18,19,20,21,22,23,24,25,26,27,28,29,30]\n",
        "    gamma_keys = []\n",
        "\n",
        "    gamma = 0\n",
        "    tetha = 0\n",
        "    alpha = 0\n",
        "    beta = 0\n",
        "\n",
        "    print(\"\")\n",
        "    print(\"---------\")\n",
        "    print(\"The most frequent letter in plain text is '\" + most_frequent_letter + \"'\")\n",
        "\n",
        "    # calculating the number of repetations for each characthers and printing the most repeated char\n",
        "    for letter in cipher_text:\n",
        "        letter_count[letter] += 1\n",
        "    max_occurance_cipher = max(letter_count, key=letter_count.get)\n",
        "    print(\"The most frequent letter in cipher text is '\"+ max_occurance_cipher + \"'\")\n",
        "\n",
        "    print(\"---------\")\n",
        "    print(\"\")\n",
        "\n",
        "    # we know the most repeated char both in plaintext and ciphertext, so we can obtain beta\n",
        "    beta =  letters[max_occurance_cipher] - letters[most_frequent_letter]\n",
        "    print(\"beta is\", beta, \"('N' - 'A')\")\n",
        "    print(\"\")\n",
        "\n",
        "    # we calculate possible gamma keys with possible alpha keys with the help of modinv function\n",
        "    for alpha in alpha_keys:\n",
        "      gamma_keys.append(modinv(alpha, 31))\n",
        "    print(\"\")\n",
        "\n",
        "\n",
        "    for g in gamma_keys: # we try all gamma keys\n",
        "      for char in cipher_text: # for each char in the cipher text\n",
        "        if(char == ' '): # we assume space char did not be encyrpted so we pass it\n",
        "          plainText += ' '\n",
        "        elif(char == \"'\"): # we assume ''' char did not be encyrpted so we pass it\n",
        "          plainText += \"'\"\n",
        "        else:\n",
        "          tetha = 31-(g*beta)%31 # we calculating theta with the current gamma and founded beta\n",
        "          plaintext_char = (letters[char]*g + tetha) % 31 # we apply keys\n",
        "          plainText += inv_letters[plaintext_char] # we convert decyrpted char (which is integer), to characther\n",
        "      print(\"gamma:\",g, \"  -  \" \"tetha:\", tetha)\n",
        "      print(plainText, \"\\n\")\n",
        "      plainText = \"\"\n",
        "\n",
        "    # we put back space and \"'\" chars to the plain text\n",
        "    for char in cipher_text:\n",
        "      if(char == ' '): \n",
        "        plainText += ' '\n",
        "      elif(char == \"'\"):\n",
        "        plainText += \"'\"\n",
        "      else:\n",
        "        plaintext_char = (letters[char]*4 + 29) % 31\n",
        "        plainText += inv_letters[plaintext_char]\n",
        "\n",
        "    print(\"\")\n",
        "    print(\"---------\")\n",
        "    print(\"Plain text can be:\", plainText)\n",
        "    print(\"---------\")\n",
        "    print(\"\")\n",
        "    sendMessage(my_id, plainText)"
      ],
      "execution_count": null,
      "outputs": [
        {
          "output_type": "stream",
          "name": "stdout",
          "text": [
            "Cipher text is:  UÜRİ .,TO,Ğ NRDNOÇ GÜ NMSÇDÇÖÇR NBÇ.ÇRÇ ONÖÇLJNY İHİR NDNMBÇ UİS I,D,J.ÜMİFDÜ .ZSOŞ RÜ TNJNRN YNONS RÜĞ RÜ TNJNRN YNONS RÜ TNJNRN YNONS YNÖÇL MİMİK J,SÜYYÜK MNDNMNBNY.ÇR UÜRİJDÜ UİSDİYLÜ IÜDĞ ZSNONĞ YNCYN.'LNĞ ÇSYÇJÇTONR UİRDÜSBÜ İR.NR LÜVDİYÜOÜĞ IÜDĞ ZRDNSÇ YŞSLNSNDÇJ .ZRSNĞ Z .ZMDŞ LN.NSÇ.ÇMDN NDNM ÜOÜSJİF IİUİ I,DJÜMÜ YZMŞDOŞ ZRDNSÇ UÜDYİ YŞSLNSNJNMÇTĞ OİMÜ ÜYDÜOİ\n",
            "\n",
            "---------\n",
            "The most frequent letter in plain text is 'A'\n",
            "The most frequent letter in cipher text is 'N'\n",
            "---------\n",
            "\n",
            "beta is 16 ('N' - 'A')\n",
            "\n",
            "alpha: 1  - gamma: 1\n",
            "alpha: 2  - gamma: 16\n",
            "alpha: 3  - gamma: 21\n",
            "alpha: 4  - gamma: 8\n",
            "alpha: 5  - gamma: 25\n",
            "alpha: 6  - gamma: 26\n",
            "alpha: 7  - gamma: 9\n",
            "alpha: 8  - gamma: 4\n",
            "alpha: 9  - gamma: 7\n",
            "alpha: 10  - gamma: 28\n",
            "alpha: 11  - gamma: 17\n",
            "alpha: 12  - gamma: 13\n",
            "alpha: 13  - gamma: 12\n",
            "alpha: 14  - gamma: 20\n",
            "alpha: 15  - gamma: 29\n",
            "alpha: 16  - gamma: 2\n",
            "alpha: 17  - gamma: 11\n",
            "alpha: 18  - gamma: 19\n",
            "alpha: 19  - gamma: 18\n",
            "alpha: 20  - gamma: 14\n",
            "alpha: 21  - gamma: 3\n",
            "alpha: 22  - gamma: 24\n",
            "alpha: 23  - gamma: 27\n",
            "alpha: 24  - gamma: 22\n",
            "alpha: 25  - gamma: 5\n",
            "alpha: 26  - gamma: 6\n",
            "alpha: 27  - gamma: 23\n",
            "alpha: 28  - gamma: 10\n",
            "alpha: 29  - gamma: 15\n",
            "alpha: 30  - gamma: 30\n",
            "\n",
            "gamma: 1   -  tetha: 15\n",
            "ĞHDV KLGBLT ADPABÖ ŞH A,EÖPÖCÖD ANÖKÖDÖ BACÖ.YAİ VUVD APA,NÖ ĞVE ÜLPLYKH,VSPH KJEBF DH GAYADA İABAE DHT DH GAYADA İABAE DH GAYADA İABAE İACÖ. ,V,VZ YLEHİİHZ ,APA,ANAİKÖD ĞHDVYPH ĞVEPVİ.H ÜHPT JEABAT İAOİAK'.AT ÖEİÖYÖGBAD ĞVDPHENH VDKAD .HIPVİHBHT ÜHPT JDPAEÖ İFE.AEAPÖY KJDEAT J KJ,PF .AKAEÖKÖ,PA APA, HBHEYVS ÜVĞV ÜLPYH,H İJ,FPBF JDPAEÖ ĞHPİV İFE.AEAYA,ÖGT BV,H HİPHBV \n",
            "\n",
            "gamma: 16   -  tetha: 23\n",
            "DRCK ŞGPNGY ACÜANH İR AMÖHÜHBHC AĞHŞHCH NABH,.AS KJKC AÜAMĞH DKÖ ZGÜG.ŞRMKVÜR ŞFÖNÇ CR PA.ACA SANAÖ CRY CR PA.ACA SANAÖ CR PA.ACA SANAÖ SABH, MKMKL .GÖRSSRL MAÜAMAĞASŞHC DRCK.ÜR DKÖÜKS,R ZRÜY FÖANAY SAUSAŞ',AY HÖSH.HPNAC DKCÜRÖĞR KCŞAC ,REÜKSRNRY ZRÜY FCÜAÖH SÇÖ,AÖAÜH. ŞFCÖAY F ŞFMÜÇ ,AŞAÖHŞHMÜA AÜAM RNRÖ.KV ZKDK ZGÜ.RMR SFMÇÜNÇ FCÜAÖH DRÜSK SÇÖ,AÖA.AMHPY NKMR RSÜRNK \n",
            "\n",
            "gamma: 21   -  tetha: 5\n",
            "KÇŞP ÜMTSMÖ AŞYASF ZÇ AIJFYFİFŞ AVFÜFŞF SAİFRHAL PĞPŞ AYAIVF KPJ .MYMHÜÇIPGYÇ ÜDJSC ŞÇ TAHAŞA LASAJ ŞÇÖ ŞÇ TAHAŞA LASAJ ŞÇ TAHAŞA LASAJ LAİFR IPIP, HMJÇLLÇ, IAYAIAVALÜFŞ KÇŞPHYÇ KPJYPLRÇ .ÇYÖ DJASAÖ LANLAÜ'RAÖ FJLFHFTSAŞ KPŞYÇJVÇ PŞÜAŞ RÇUYPLÇSÇÖ .ÇYÖ DŞYAJF LCJRAJAYFH ÜDŞJAÖ D ÜDIYC RAÜAJFÜFIYA AYAI ÇSÇJHPG .PKP .MYHÇIÇ LDICYSC DŞYAJF KÇYLP LCJRAJAHAIFTÖ SPIÇ ÇLYÇSP \n",
            "\n",
            "gamma: 8   -  tetha: 27\n",
            "CIBŞ İPÜĞP. ABZAĞR SI ATHRZRNRB ADRİRBR ĞANRM,AV ŞFŞB AZATDR CŞH LPZP,İITŞKZI İÇHĞO BI ÜA,ABA VAĞAH BI. BI ÜA,ABA VAĞAH BI ÜA,ABA VAĞAH VANRM TŞTŞG ,PHIVVIG TAZATADAVİRB CIBŞ,ZI CŞHZŞVMI LIZ. ÇHAĞA. VAJVAİ'MA. RHVR,RÜĞAB CŞBZIHDI ŞBİAB MIÖZŞVIĞI. LIZ. ÇBZAHR VOHMAHAZR, İÇBHA. Ç İÇTZO MAİAHRİRTZA AZAT IĞIH,ŞK LŞCŞ LPZ,ITI VÇTOZĞO ÇBZAHR CIZVŞ VOHMAHA,ATRÜ. ĞŞTI IVZIĞŞ \n",
            "\n",
            "gamma: 25   -  tetha: 3\n",
            "LĞG, MHRÜHO AGIAÜN TĞ AFBNINPNG AZNMNGN ÜAPNJUAY ,İ,G AIAFZN L,B EHIHUMĞF,.IĞ MSBÜV GĞ RAUAGA YAÜAB GĞO GĞ RAUAGA YAÜAB GĞ RAUAGA YAÜAB YAPNJ F,F,Ö UHBĞYYĞÖ FAIAFAZAYMNG LĞG,UIĞ L,BI,YJĞ EĞIO SBAÜAO YAŞYAM'JAO NBYNUNRÜAG L,GIĞBZĞ ,GMAG JĞCI,YĞÜĞO EĞIO SGIABN YVBJABAINU MSGBAO S MSFIV JAMABNMNFIA AIAF ĞÜĞBU,. E,L, EHIUĞFĞ YSFVIÜV SGIABN LĞIY, YVBJABAUAFNRO Ü,FĞ ĞYIĞÜ, \n",
            "\n",
            "gamma: 26   -  tetha: 18\n",
            "ŞOİÜ ZTYVTH Aİ.AVÇ LO AEFÇ.ÇSÇİ AKÇZÇİÇ VASÇIRAG ÜDÜİ A.AEKÇ ŞÜF ,T.TRZOEÜP.O ZCFVB İO YARAİA GAVAF İOH İO YARAİA GAVAF İO YARAİA GAVAF GASÇI EÜEÜM RTFOGGOM EA.AEAKAGZÇİ ŞOİÜR.O ŞÜF.ÜGIO ,O.H CFAVAH GAĞGAZ'IAH ÇFGÇRÇYVAİ ŞÜİ.OFKO ÜİZAİ IOJ.ÜGOVOH ,O.H Cİ.AFÇ GBFIAFA.ÇR ZCİFAH C ZCE.B IAZAFÇZÇE.A A.AE OVOFRÜP ,ÜŞÜ ,T.ROEO GCEB.VB Cİ.AFÇ ŞO.GÜ GBFIAFARAEÇYH VÜEO OG.OVÜ \n",
            "\n",
            "gamma: 9   -  tetha: 11\n",
            "IPEO UCBHCS AENAHG JP AŞLGNGÖGE ARGUGEG HAÖGKVAF O,OE ANAŞRG IOL ĞCNCVUPŞOÇNP UMLHT EP BAVAEA FAHAL EPS EP BAVAEA FAHAL EP BAVAEA FAHAL FAÖGK ŞOŞOD VCLPFFPD ŞANAŞARAFUGE IPEOVNP IOLNOFKP ĞPNS MLAHAS FA.FAU'KAS GLFGVGBHAE IOENPLRP OEUAE KPZNOFPHPS ĞPNS MENALG FTLKALANGV UMELAS M UMŞNT KAUALGUGŞNA ANAŞ PHPLVOÇ ĞOIO ĞCNVPŞP FMŞTNHT MENALG IPNFO FTLKALAVAŞGBS HOŞP PFNPHO \n",
            "\n",
            "gamma: 4   -  tetha: 29\n",
            "BENİ SÜZDÜ, ANLADI VE AYRILIĞIN ACISINI DAĞITMAK İÇİN ALAYCI BİR GÜLÜMSEYİŞLE SORDU NE ZAMANA KADAR NE, NE ZAMANA KADAR NE ZAMANA KADAR KAĞIT YİYİP MÜREKKEP YALAYACAKSIN BENİMLE BİRLİKTE GEL, ORADA, KAFKAS'TA, IRKIMIZDAN BİNLERCE İNSAN TEHLİKEDE, GEL, ONLARI KURTARALIM SONRA, O SOYLU TASARISIYLA ALAY EDERMİŞ GİBİ GÜLMEYE KOYULDU ONLARI BELKİ KURTARAMAYIZ, DİYE EKLEDİ \n",
            "\n",
            "gamma: 7   -  tetha: 12\n",
            "ÜBZY .EÖGEF AZHAGC ,B AUDCHCLCZ APC.CZC GALCOÇAM YKYZ AHAUPC ÜYD REHEÇ.BUYTHB .ŞDGİ ZB ÖAÇAZA MAGAD ZBF ZB ÖAÇAZA MAGAD ZB ÖAÇAZA MAGAD MALCO UYUYI ÇEDBMMBI UAHAUAPAM.CZ ÜBZYÇHB ÜYDHYMOB RBHF ŞDAGAF MAVMA.'OAF CDMCÇCÖGAZ ÜYZHBDPB YZ.AZ OBĞHYMBGBF RBHF ŞZHADC MİDOADAHCÇ .ŞZDAF Ş .ŞUHİ OA.ADC.CUHA AHAU BGBDÇYT RYÜY REHÇBUB MŞUİHGİ ŞZHADC ÜBHMY MİDOADAÇAUCÖF GYUB BMHBGY \n",
            "\n",
            "gamma: 28   -  tetha: 17\n",
            "GDPM TRIZRU APEAZĞ YD AÇNĞEĞÜĞP ALĞTĞPĞ ZAÜĞFJA. MSMP AEAÇLĞ GMN ÖRERJTDÇM,ED TVNZK PD IAJAPA .AZAN PDU PD IAJAPA .AZAN PD IAJAPA .AZAN .AÜĞF ÇMÇMH JRND..DH ÇAEAÇALA.TĞP GDPMJED GMNEM.FD ÖDEU VNAZAU .Aİ.AT'FAU ĞN.ĞJĞIZAP GMPEDNLD MPTAP FDBEM.DZDU ÖDEU VPEANĞ .KNFANAEĞJ TVPNAU V TVÇEK FATANĞTĞÇEA AEAÇ DZDNJM, ÖMGM ÖREJDÇD .VÇKEZK VPEANĞ GDE.M .KNFANAJAÇĞIU ZMÇD D.EDZM \n",
            "\n",
            "gamma: 17   -  tetha: 7\n",
            "J.FĞ DSVOSP AFKAOY C. ALTYKYÇYF AUYDYFY OAÇYZÜAB ĞEĞF AKALUY JĞT ŞSKSÜD.LĞNK. DÖTOH F. VAÜAFA BAOAT F.P F. VAÜAFA BAOAT F. VAÜAFA BAOAT BAÇYZ LĞLĞİ ÜST.BB.İ LAKALAUABDYF J.FĞÜK. JĞTKĞBZ. Ş.KP ÖTAOAP BAIBAD'ZAP YTBYÜYVOAF JĞFK.TU. ĞFDAF Z.MKĞB.O.P Ş.KP ÖFKATY BHTZATAKYÜ DÖFTAP Ö DÖLKH ZADATYDYLKA AKAL .O.TÜĞN ŞĞJĞ ŞSKÜ.L. BÖLHKOH ÖFKATY J.KBĞ BHTZATAÜALYVP OĞL. .BK.OĞ \n",
            "\n",
            "gamma: 13   -  tetha: 9\n",
            "İUSZ LY.KYR AS,AKO GU AÖÇO,OVOS AŞOLOSO KAVOEIAP ZCZS A,AÖŞO İZÇ MY,YILUÖZÜ,U LBÇKN SU .AIASA PAKAÇ SUR SU .AIASA PAKAÇ SU .AIASA PAKAÇ PAVOE ÖZÖZT IYÇUPPUT ÖA,AÖAŞAPLOS İUSZI,U İZÇ,ZPEU MU,R BÇAKAR PADPAL'EAR OÇPOIO.KAS İZS,UÇŞU ZSLAS EUF,ZPUKUR MU,R BS,AÇO PNÇEAÇA,OI LBSÇAR B LBÖ,N EALAÇOLOÖ,A A,AÖ UKUÇIZÜ MZİZ MY,IUÖU PBÖN,KN BS,AÇO İU,PZ PNÇEAÇAIAÖO.R KZÖU UP,UKZ \n",
            "\n",
            "gamma: 12   -  tetha: 25\n",
            "ÇMOC BKŞJKZ AOİAJ, NM AP.,İ,U,O AF,B,O, JAU,GLAĞ CHCO AİAPF, ÇC. SKİKLBMPCDİM BR.JI OM ŞALAOA ĞAJA. OMZ OM ŞALAOA ĞAJA. OM ŞALAOA ĞAJA. ĞAU,G PCPCV LK.MĞĞMV PAİAPAFAĞB,O ÇMOCLİM ÇC.İCĞGM SMİZ R.AJAZ ĞAÖĞAB'GAZ ,.Ğ,L,ŞJAO ÇCOİM.FM COBAO GMYİCĞMJMZ SMİZ ROİA., ĞI.GA.Aİ,L BRO.AZ R BRPİI GABA.,B,PİA AİAP MJM.LCD SCÇC SKİLMPM ĞRPIİJI ROİA., ÇMİĞC ĞI.GA.ALAP,ŞZ JCPM MĞİMJC \n",
            "\n",
            "gamma: 20   -  tetha: 21\n",
            "EÜÖU JBNRBV AÖĞARP FÜ AİGPĞPHPÖ AIPJPÖP RAHPŞKAÇ UMUÖ AĞAİIP EUG DBĞBKJÜİUOĞÜ JTGRY ÖÜ NAKAÖA ÇARAG ÖÜV ÖÜ NAKAÖA ÇARAG ÖÜ NAKAÖA ÇARAG ÇAHPŞ İUİUC KBGÜÇÇÜC İAĞAİAIAÇJPÖ EÜÖUKĞÜ EUGĞUÇŞÜ DÜĞV TGARAV ÇA,ÇAJ'ŞAV PGÇPKPNRAÖ EUÖĞÜGIÜ UÖJAÖ ŞÜLĞUÇÜRÜV DÜĞV TÖĞAGP ÇYGŞAGAĞPK JTÖGAV T JTİĞY ŞAJAGPJPİĞA AĞAİ ÜRÜGKUO DUEU DBĞKÜİÜ ÇTİYĞRY TÖĞAGP EÜĞÇU ÇYGŞAGAKAİPNV RUİÜ ÜÇĞÜRU \n",
            "\n",
            "gamma: 29   -  tetha: 1\n",
            "MKTI EÇO.ÇN ATUA.V ÖK ACSVUVYVT A,VEVTV .AYVDĞAH ILIT AUAC,V MIS JÇUÇĞEKCIRUK EGS.P TK OAĞATA HA.AS TKN TK OAĞATA HA.AS TK OAĞATA HA.AS HAYVD CICIF ĞÇSKHHKF CAUACA,AHEVT MKTIĞUK MISUIHDK JKUN GSA.AN HAZHAE'DAN VSHVĞVO.AT MITUKS,K ITEAT DKİUIHK.KN JKUN GTUASV HPSDASAUVĞ EGTSAN G EGCUP DAEASVEVCUA AUAC K.KSĞIR JIMI JÇUĞKCK HGCPU.P GTUASV MKUHI HPSDASAĞACVON .ICK KHUK.I \n",
            "\n",
            "gamma: 2   -  tetha: 30\n",
            "NÖĞS VZLCZM AĞGACE KÖ A.IEGEDEĞ ABEVEĞE CADEYTAŞ SOSĞ AGA.BE NSI PZGZTVÖ.SİGÖ VUICJ ĞÖ LATAĞA ŞACAI ĞÖM ĞÖ LATAĞA ŞACAI ĞÖ LATAĞA ŞACAI ŞADEY .S.SÜ TZIÖŞŞÖÜ .AGA.ABAŞVEĞ NÖĞSTGÖ NSIGSŞYÖ PÖGM UIACAM ŞAÇŞAV'YAM EIŞETELCAĞ NSĞGÖIBÖ SĞVAĞ YÖRGSŞÖCÖM PÖGM UĞGAIE ŞJIYAIAGET VUĞIAM U VU.GJ YAVAIEVE.GA AGA. ÖCÖITSİ PSNS PZGTÖ.Ö ŞU.JGCJ UĞGAIE NÖGŞS ŞJIYAIATA.ELM CS.Ö ÖŞGÖCS \n",
            "\n",
            "gamma: 11   -  tetha: 10\n",
            "VFKG P,Mİ,E AKTAİJ ÜF ARUJTJŞJK ASJPJKJ İAŞJHÖAZ GNGK ATARSJ VGU Y,T,ÖPFRGLTF PĞUİD KF MAÖAKA ZAİAU KFE KF MAÖAKA ZAİAU KF MAÖAKA ZAİAU ZAŞJH RGRG. Ö,UFZZF. RATARASAZPJK VFKGÖTF VGUTGZHF YFTE ĞUAİAE ZABZAP'HAE JUZJÖJMİAK VGKTFUSF GKPAK HFOTGZFİFE YFTE ĞKTAUJ ZDUHAUATJÖ PĞKUAE Ğ PĞRTD HAPAUJPJRTA ATAR FİFUÖGL YGVG Y,TÖFRF ZĞRDTİD ĞKTAUJ VFTZG ZDUHAUAÖARJME İGRF FZTFİG \n",
            "\n",
            "gamma: 19   -  tetha: 6\n",
            "ZNL. ,ÖHPÖÇ ALRAPB MN AJCBRBGBL AÜB,BLB PAGBUOAT .Ş.L ARAJÜB Z.C IÖRÖO,NJ.YRN ,İCPS LN HAOALA TAPAC LNÇ LN HAOALA TAPAC LN HAOALA TAPAC TAGBU J.J.E OÖCNTTNE JARAJAÜAT,BL ZNL.ORN Z.CR.TUN INRÇ İCAPAÇ TAKTA,'UAÇ BCTBOBHPAL Z.LRNCÜN .L,AL UNDR.TNPNÇ INRÇ İLRACB TSCUACARBO ,İLCAÇ İ ,İJRS UA,ACB,BJRA ARAJ NPNCO.Y I.Z. IÖRONJN TİJSRPS İLRACB ZNRT. TSCUACAOAJBHÇ P.JN NTRNP. \n",
            "\n",
            "gamma: 18   -  tetha: 22\n",
            "RGIÇ ODCÖDİ AIBAÖL UG AKZLBLELI AHLOLIL ÖAELVSAJ Ç.ÇI ABAKHL RÇZ NDBDSOGKÇFBG O,ZÖM IG CASAIA JAÖAZ IGİ IG CASAIA JAÖAZ IG CASAIA JAÖAZ JAELV KÇKÇĞ SDZGJJGĞ KABAKAHAJOLI RGIÇSBG RÇZBÇJVG NGBİ ,ZAÖAİ JAYJAO'VAİ LZJLSLCÖAI RÇIBGZHG ÇIOAI VGÜBÇJGÖGİ NGBİ ,IBAZL JMZVAZABLS O,IZAİ , O,KBM VAOAZLOLKBA ABAK GÖGZSÇF NÇRÇ NDBSGKG J,KMBÖM ,IBAZL RGBJÇ JMZVAZASAKLCİ ÖÇKG GJBGÖÇ \n",
            "\n",
            "gamma: 14   -  tetha: 24\n",
            "PCÜT YIELIJ AÜÖALD .C AOĞDÖDZDÜ AGDYDÜD LAZDÇFA, TVTÜ AÖAOGD PTĞ HIÖIFYCOTMÖC YKĞLŞ ÜC EAFAÜA ,ALAĞ ÜCJ ÜC EAFAÜA ,ALAĞ ÜC EAFAÜA ,ALAĞ ,AZDÇ OTOTR FIĞC,,CR OAÖAOAGA,YDÜ PCÜTFÖC PTĞÖT,ÇC HCÖJ KĞALAJ ,AS,AY'ÇAJ DĞ,DFDELAÜ PTÜÖCĞGC TÜYAÜ ÇCNÖT,CLCJ HCÖJ KÜÖAĞD ,ŞĞÇAĞAÖDF YKÜĞAJ K YKOÖŞ ÇAYAĞDYDOÖA AÖAO CLCĞFTM HTPT HIÖFCOC ,KOŞÖLŞ KÜÖAĞD PCÖ,T ,ŞĞÇAĞAFAODEJ LTOC C,ÖCLT \n",
            "\n",
            "gamma: 3   -  tetha: 14\n",
            "UYJN ĞİSÇİG AJVAÇT DY AZMTVTFTJ AOTĞTJT ÇAFTÜPAC NINJ AVAZOT UNM KİVİPĞYZNBVY ĞEMÇÖ JY SAPAJA CAÇAM JYG JY SAPAJA CAÇAM JY SAPAJA CAÇAM CAFTÜ ZNZNŞ PİMYCCYŞ ZAVAZAOACĞTJ UYJNPVY UNMVNCÜY KYVG EMAÇAG CARCAĞ'ÜAG TMCTPTSÇAJ UNJVYMOY NJĞAJ ÜY,VNCYÇYG KYVG EJVAMT CÖMÜAMAVTP ĞEJMAG E ĞEZVÖ ÜAĞAMTĞTZVA AVAZ YÇYMPNB KNUN KİVPYZY CEZÖVÇÖ EJVAMT UYVCN CÖMÜAMAPAZTSG ÇNZY YCVYÇN \n",
            "\n",
            "gamma: 24   -  tetha: 19\n",
            "F,ÇD CVKUVÜ AÇŞAU. B, AGY.Ş.O.Ç AJ.C.Ç. UAO.LZAN DÖDÇ AŞAGJ. FDY İVŞVZC,GDĞŞ, CHYUR Ç, KAZAÇA NAUAY Ç,Ü Ç, KAZAÇA NAUAY Ç, KAZAÇA NAUAY NAO.L GDGDS ZVY,NN,S GAŞAGAJANC.Ç F,ÇDZŞ, FDYŞDNL, İ,ŞÜ HYAUAÜ NAENAC'LAÜ .YN.Z.KUAÇ FDÇŞ,YJ, DÇCAÇ L,TŞDN,U,Ü İ,ŞÜ HÇŞAY. NRYLAYAŞ.Z CHÇYAÜ H CHGŞR LACAY.C.GŞA AŞAG ,U,YZDĞ İDFD İVŞZ,G, NHGRŞUR HÇŞAY. F,ŞND NRYLAYAZAG.KÜ UDG, ,NŞ,UD \n",
            "\n",
            "gamma: 27   -  tetha: 2\n",
            ",VMR IFÇYFB AMOAYS EV ADİSOSTSM A.SISMS YATSĞNAÖ RZRM AOAD.S ,Rİ UFOFNIVDRHOV ILİYG MV ÇANAMA ÖAYAİ MVB MV ÇANAMA ÖAYAİ MV ÇANAMA ÖAYAİ ÖATSĞ DRDRJ NFİVÖÖVJ DAOADA.AÖISM ,VMRNOV ,RİORÖĞV UVOB LİAYAB ÖAÜÖAI'ĞAB SİÖSNSÇYAM ,RMOVİ.V RMIAM ĞVŞORÖVYVB UVOB LMOAİS ÖGİĞAİAOSN ILMİAB L ILDOG ĞAIAİSISDOA AOAD VYVİNRH UR,R UFONVDV ÖLDGOYG LMOAİS ,VOÖR ÖGİĞAİANADSÇB YRDV VÖOVYR \n",
            "\n",
            "gamma: 22   -  tetha: 20\n",
            "SJVL G.,Ş.I AVMAŞU PJ AHOUMUKUV AİUGUVU ŞAKUÖEAÜ LBLV AMAHİU SLO T.M.EGJHLZMJ GNOŞĞ VJ ,AEAVA ÜAŞAO VJI VJ ,AEAVA ÜAŞAO VJ ,AEAVA ÜAŞAO ÜAKUÖ HLHLY E.OJÜÜJY HAMAHAİAÜGUV SJVLEMJ SLOMLÜÖJ TJMI NOAŞAI ÜACÜAG'ÖAI UOÜUEU,ŞAV SLVMJOİJ LVGAV ÖJÇMLÜJŞJI TJMI NVMAOU ÜĞOÖAOAMUE GNVOAI N GNHMĞ ÖAGAOUGUHMA AMAH JŞJOELZ TLSL T.MEJHJ ÜNHĞMŞĞ NVMAOU SJMÜL ÜĞOÖAOAEAHU,I ŞLHJ JÜMJŞL \n",
            "\n",
            "gamma: 5   -  tetha: 13\n",
            "HLRF ÇĞDEĞŞ ARCAEZ OL AVÜZCZIZR AÖZÇZRZ EAIZSİAU FYFR ACAVÖZ HFÜ BĞCĞİÇLVFJCL Ç.ÜE, RL DAİARA UAEAÜ RLŞ RL DAİARA UAEAÜ RL DAİARA UAEAÜ UAIZS VFVFN İĞÜLUULN VACAVAÖAUÇZR HLRFİCL HFÜCFUSL BLCŞ .ÜAEAŞ UATUAÇ'SAŞ ZÜUZİZDEAR HFRCLÜÖL FRÇAR SLPCFULELŞ BLCŞ .RCAÜZ U,ÜSAÜACZİ Ç.RÜAŞ . Ç.VC, SAÇAÜZÇZVCA ACAV LELÜİFJ BFHF BĞCİLVL U.V,CE, .RCAÜZ HLCUF U,ÜSAÜAİAVZDŞ EFVL LUCLEF \n",
            "\n",
            "gamma: 6   -  tetha: 28\n",
            "OTUB NŞİFŞL AUSAFM ĞT AÜ,MSMJMU AÇMNMUM FAJMPGAD BRBU ASAÜÇM OB, VŞSŞGNTÜBCST NI,FE UT İAGAUA DAFA, UTL UT İAGAUA DAFA, UT İAGAUA DAFA, DAJMP ÜBÜBK GŞ,TDDTK ÜASAÜAÇADNMU OTUBGST OB,SBDPT VTSL I,AFAL DAHDAN'PAL M,DMGMİFAU OBUST,ÇT BUNAU PT.SBDTFTL VTSL IUSA,M DE,PA,ASMG NIU,AL I NIÜSE PANA,MNMÜSA ASAÜ TFT,GBC VBOB VŞSGTÜT DIÜESFE IUSA,M OTSDB DE,PA,AGAÜMİL FBÜT TDSTFB \n",
            "\n",
            "gamma: 23   -  tetha: 4\n",
            ".S,H RJFTJC A,ÇATİ IS AĞŞİÇİMİ, AYİRİ,İ TAMİNBAE HÜH, AÇAĞYİ .HŞ OJÇJBRSĞHÖÇS RZŞTL ,S FABA,A EATAŞ ,SC ,S FABA,A EATAŞ ,S FABA,A EATAŞ EAMİN ĞHĞHU BJŞSEESU ĞAÇAĞAYAERİ, .S,HBÇS .HŞÇHENS OSÇC ZŞATAC EAPEAR'NAC İŞEİBİFTA, .H,ÇSŞYS H,RA, NSKÇHESTSC OSÇC Z,ÇAŞİ ELŞNAŞAÇİB RZ,ŞAC Z RZĞÇL NARAŞİRİĞÇA AÇAĞ STSŞBHÖ OH.H OJÇBSĞS EZĞLÇTL Z,ÇAŞİ .SÇEH ELŞNAŞABAĞİFC THĞS SEÇSTH \n",
            "\n",
            "gamma: 10   -  tetha: 26\n",
            "ÖZHJ FNĞINK AHDAIÜ ÇZ ASPÜDÜRÜH AEÜFÜHÜ IARÜİŞAO JTJH ADASEÜ ÖJP CNDNŞFZSJUDZ FYPI. HZ ĞAŞAHA OAIAP HZK HZ ĞAŞAHA OAIAP HZ ĞAŞAHA OAIAP OARÜİ SJSJB ŞNPZOOZB SADASAEAOFÜH ÖZHJŞDZ ÖJPDJOİZ CZDK YPAIAK OAMOAF'İAK ÜPOÜŞÜĞIAH ÖJHDZPEZ JHFAH İZGDJOZIZK CZDK YHDAPÜ O.PİAPADÜŞ FYHPAK Y FYSD. İAFAPÜFÜSDA ADAS ZIZPŞJU CJÖJ CNDŞZSZ OYS.DI. YHDAPÜ ÖZDOJ O.PİAPAŞASÜĞK IJSZ ZODZIJ \n",
            "\n",
            "gamma: 15   -  tetha: 8\n",
            "Yİ.Ö HUJMUD A.FAMŞ Rİ ANKŞFŞ,Ş. ATŞHŞ.Ş MA,ŞBCAI ÖPÖ. AFANTŞ YÖK ÇUFUCHİNÖEFİ HÜKMZ .İ JACA.A IAMAK .İD .İ JACA.A IAMAK .İ JACA.A IAMAK IA,ŞB NÖNÖO CUKİIIİO NAFANATAIHŞ. Yİ.ÖCFİ YÖKFÖIBİ ÇİFD ÜKAMAD IAGIAH'BAD ŞKIŞCŞJMA. YÖ.FİKTİ Ö.HA. BİVFÖIİMİD ÇİFD Ü.FAKŞ IZKBAKAFŞC HÜ.KAD Ü HÜNFZ BAHAKŞHŞNFA AFAN İMİKCÖE ÇÖYÖ ÇUFCİNİ IÜNZFMZ Ü.FAKŞ YİFIÖ IZKBAKACANŞJD MÖNİ İIFİMÖ \n",
            "\n",
            "gamma: 30   -  tetha: 16\n",
            "TŞYE ÖOU,OĞ AYJA,K HŞ ABVKJK.KY AMKÖKYK ,A.KCDAR EGEY AJABMK TEV FOJODÖŞBEIJŞ ÖPV,Ü YŞ UADAYA RA,AV YŞĞ YŞ UADAYA RA,AV YŞ UADAYA RA,AV RA.KC BEBEÇ DOVŞRRŞÇ BAJABAMARÖKY TŞYEDJŞ TEVJERCŞ FŞJĞ PVA,AĞ RALRAÖ'CAĞ KVRKDKU,AY TEYJŞVMŞ EYÖAY CŞSJERŞ,ŞĞ FŞJĞ PYJAVK RÜVCAVAJKD ÖPYVAĞ P ÖPBJÜ CAÖAVKÖKBJA AJAB Ş,ŞVDEI FETE FOJDŞBŞ RPBÜJ,Ü PYJAVK TŞJRE RÜVCAVADABKUĞ ,EBŞ ŞRJŞ,E \n",
            "\n",
            "\n",
            "---------\n",
            "Plain text can be: BENİ SÜZDÜ, ANLADI VE AYRILIĞIN ACISINI DAĞITMAK İÇİN ALAYCI BİR GÜLÜMSEYİŞLE SORDU NE ZAMANA KADAR NE, NE ZAMANA KADAR NE ZAMANA KADAR KAĞIT YİYİP MÜREKKEP YALAYACAKSIN BENİMLE BİRLİKTE GEL, ORADA, KAFKAS'TA, IRKIMIZDAN BİNLERCE İNSAN TEHLİKEDE, GEL, ONLARI KURTARALIM SONRA, O SOYLU TASARISIYLA ALAY EDERMİŞ GİBİ GÜLMEYE KOYULDU ONLARI BELKİ KURTARAMAYIZ, DİYE EKLEDİ\n",
            "---------\n",
            "\n",
            "Congrats!\n"
          ]
        }
      ]
    },
    {
      "cell_type": "code",
      "metadata": {
        "colab": {
          "base_uri": "https://localhost:8080/"
        },
        "id": "4u1W3qKVp9lo",
        "outputId": "ef4b5fa6-f8f0-43e1-a94b-6d6a2b7816d2"
      },
      "source": [
        "gamma = 4\n",
        "tetha = 29\n",
        "alpha = 8 # we printed alpha gamma pairs in inverse modulo function, so if we check the output, we see that when gamma is 4, alpha is 8\n",
        "print(\"decryption key pair is: \", \"(\", gamma, \",\", tetha, \")\", \"--> (gamma,tetha)\")\n",
        "print(\"encryption key pari is: \", \"(\", alpha, \",\", beta, \")\", \"--> (alpha,beta)\")"
      ],
      "execution_count": null,
      "outputs": [
        {
          "output_type": "stream",
          "name": "stdout",
          "text": [
            "decryption key pair is:  ( 4 , 29 ) --> (gamma,tetha)\n",
            "encryption key pari is:  ( 8 , 16 ) --> (alpha,beta)\n"
          ]
        }
      ]
    },
    {
      "cell_type": "code",
      "metadata": {
        "colab": {
          "base_uri": "https://localhost:8080/"
        },
        "id": "EAWzVvRGJgBG",
        "outputId": "89e97d5b-0fec-4efe-ef80-a902a8be4603"
      },
      "source": [
        "print('--------- problem 3 finish ---------')"
      ],
      "execution_count": 6,
      "outputs": [
        {
          "output_type": "stream",
          "name": "stdout",
          "text": [
            "--------- problem 3 finish ---------\n"
          ]
        }
      ]
    },
    {
      "cell_type": "markdown",
      "metadata": {
        "id": "1e8h4_uBMu-F"
      },
      "source": [
        "# Problem 8 (Bonus)"
      ]
    },
    {
      "cell_type": "code",
      "metadata": {
        "colab": {
          "base_uri": "https://localhost:8080/"
        },
        "id": "miDivHFrJl1Q",
        "outputId": "41a9c86b-3cdd-4b50-c08e-fe693a5b9f04"
      },
      "source": [
        "print('--------- problem 8 start ---------')"
      ],
      "execution_count": 7,
      "outputs": [
        {
          "output_type": "stream",
          "name": "stdout",
          "text": [
            "--------- problem 8 start ---------\n"
          ]
        }
      ]
    },
    {
      "cell_type": "code",
      "metadata": {
        "id": "HxYGBhWm3Unq"
      },
      "source": [
        "letters ={'A':0, 'B':1, 'C':2, 'D':3, 'E':4, 'F':5, 'G':6, 'H':7, 'I':8,\n",
        "         'J':9, 'K':10, 'L':11, 'M':12, 'N':13, 'O':14, 'P':15, 'Q':16,\n",
        "         'R':17, 'S':18,  'T':19, 'U':20, 'V':21, 'W':22, 'X':23, 'Y':24,\n",
        "         'Z':25}\n",
        "\n",
        "inv_letters = {0:'A', 1:'B', 2:'C', 3:'D', 4:'E', 5:'F', 6:'G', 7:'H',\n",
        "                 8:'I', 9:'J', 10:'K', 11:'L', 12:'M', 13:'N', 14:'O', 15:'P',\n",
        "                 16:'Q', 17:'R', 18:'S', 19:'T', 20:'U', 21:'V', 22:'W', 23:'X',\n",
        "                 24:'Y', 25:'Z'}\n",
        "\n",
        "letter_count = {'A':0, 'B':0, 'C':0, 'D':0, 'E':0, 'F':0, 'G':0, 'H':0, 'I':0,\n",
        "                'J':0, 'K':0, 'L':0, 'M':0, 'N':0, 'O':0, 'P':0, 'Q':0,\n",
        "                'R':0, 'S':0, 'T':0, 'U':0, 'V':0, 'W':0, 'X':0, 'Y':0,\n",
        "                'Z':0}\n",
        "\n",
        "\n",
        "cipher_text = \"Iur tvlrc ig vnc wof il tvps aoiutpy wu wfiqo ajl aln yrs jrcahld cqihl-rhsye gs cue fuahn gngairuhpol tvht kayls y pobpcr hoe cqihl mf o Yoaksmejlsy, tfe gaunir tal tvl eouos od ab Lilshlil, abk tfe wnnmrout kab ahc eebaj ot hnw ccslcgs wrcswkelt. Hoar ibztgtiaimn, ulnrlstel, ig h cmufa. Ir cou bc tvl Sspflmc Ccbrr ot ahc Ubptcd Saareg vr rhs oukbzlsr J.D josrh pn rhs sald, cy tfig oolofhbje qvupt koiah mvu qefce. Muf josrhz hyvs ahcif maslhz, aq dcls ynm oukab pnqtwauricu, bst wu tfig josnhyy muf josrhz ape hoe ersht jejllcrg, hnb ib vup ccbrrs osl keb hrc cflarer lqsaz. P'm lo wkeylwzt ro pllgejl fgrasy gn hoe gnhlgpihf od oiy cmufas ynr pn rhs qupy-gfsrea ahyt wz nm irlaj tc te, gt wz a jijpne, wcykgnu yeylway. Eebalcmsu, a aoiyt gs bv bcthlr rhou eycv tal ot fos swatgnu iedofl mc ob ahgs xbrw. A qvupt wz ollm hs qoiud ys was huff, ald o qupy wz ollm hs qoiud ys hoe keb dhm more gt iw. I ym qvndirlnr tvht woi neltzlmcn kplj rscicw kptfoia pysgpol tvl etirlnae mvu fajl hcafk, cmms ao y dsjiqicu, ald flsrofl tfig kedebkalt hv hgs thmglm. Pn rhs uake cm Gmd, rv ymuf kury.\"\n",
        "cipher_text_original = cipher_text # at the end we use this to put back punctuation symbols, spaces and adjusting letter size (upper/back) \n",
        "                                    # because to be able to work easy we remove all of them in cipher and make all char upper\n",
        "\n",
        "\n",
        "# punctuation symbols and spaces are removed\n",
        "symbols = '''!()-[]{};:'\"\\,<>./?@#$%^&*_~ '''\n",
        "for char in cipher_text:\n",
        "    if char in symbols:\n",
        "        cipher_text = cipher_text.replace(char, \"\")\n",
        "\n",
        "# all chars are uppered\n",
        "cipher_text = cipher_text.upper()"
      ],
      "execution_count": null,
      "outputs": []
    },
    {
      "cell_type": "code",
      "metadata": {
        "id": "VGyAsONR3X_k"
      },
      "source": [
        "# we add space at the beggining of the cipher text\n",
        "def shiftCipher(text):\n",
        "  return text[:0] + ' ' + text[0:]\n",
        "\n",
        "# this function takes shifted cipher as arguement\n",
        "# we have original cipher text as cipher_text\n",
        "# letters that are in the same indexes are compared \n",
        "# if they are same, we increase coincidence variable by one\n",
        "# at the end of the funtion we append the calculated number in the num_of_coincidence\n",
        "# array which is described below cell.\n",
        "def countLetters(shifted_cipher):\n",
        "  counter = 0\n",
        "  coincidence = 0\n",
        "  for char in cipher_text:\n",
        "    if(char == shifted_cipher[counter]):\n",
        "      coincidence += 1\n",
        "    counter += 1\n",
        "  num_of_coincidences.append(coincidence)"
      ],
      "execution_count": null,
      "outputs": []
    },
    {
      "cell_type": "code",
      "metadata": {
        "id": "rQe5lTFV1-Rp"
      },
      "source": [
        "max_length_tried = 20\n",
        "shifted_cipher = cipher_text\n",
        "num_of_coincidences = [] # stores inv_letters dictionaries for each key length. index 0 => key length 0, index 1 => key length 1, index 2 => key length 2 \n",
        "\n",
        "# for each shift amount we calculate coincidences\n",
        "for i in range(max_length_tried):\n",
        "  countLetters(shifted_cipher)\n",
        "  shifted_cipher = shiftCipher(shifted_cipher)"
      ],
      "execution_count": null,
      "outputs": []
    },
    {
      "cell_type": "code",
      "metadata": {
        "colab": {
          "base_uri": "https://localhost:8080/"
        },
        "id": "WeLRshosAEcI",
        "outputId": "e8e74ace-fcab-463f-b001-74b69d1069d2"
      },
      "source": [
        "for i in range(len(num_of_coincidences)):\n",
        "  print(\"for shift amount\", i, \"calculated coincidences are\", num_of_coincidences[i])"
      ],
      "execution_count": null,
      "outputs": [
        {
          "output_type": "stream",
          "name": "stdout",
          "text": [
            "for shift amount 0 calculated coincidences are 854\n",
            "for shift amount 1 calculated coincidences are 28\n",
            "for shift amount 2 calculated coincidences are 32\n",
            "for shift amount 3 calculated coincidences are 30\n",
            "for shift amount 4 calculated coincidences are 23\n",
            "for shift amount 5 calculated coincidences are 40\n",
            "for shift amount 6 calculated coincidences are 30\n",
            "for shift amount 7 calculated coincidences are 43\n",
            "for shift amount 8 calculated coincidences are 39\n",
            "for shift amount 9 calculated coincidences are 34\n",
            "for shift amount 10 calculated coincidences are 52\n",
            "for shift amount 11 calculated coincidences are 33\n",
            "for shift amount 12 calculated coincidences are 48\n",
            "for shift amount 13 calculated coincidences are 33\n",
            "for shift amount 14 calculated coincidences are 42\n",
            "for shift amount 15 calculated coincidences are 53\n",
            "for shift amount 16 calculated coincidences are 31\n",
            "for shift amount 17 calculated coincidences are 39\n",
            "for shift amount 18 calculated coincidences are 42\n",
            "for shift amount 19 calculated coincidences are 34\n"
          ]
        }
      ]
    },
    {
      "cell_type": "code",
      "metadata": {
        "colab": {
          "base_uri": "https://localhost:8080/"
        },
        "id": "w02YK-gm7wwi",
        "outputId": "6af540e2-d1eb-44d0-f959-32b1e6a499ab"
      },
      "source": [
        "key_length = 5\n",
        "print(\"key length can be\", key_length)"
      ],
      "execution_count": null,
      "outputs": [
        {
          "output_type": "stream",
          "name": "stdout",
          "text": [
            "key length can be 5\n"
          ]
        }
      ]
    },
    {
      "cell_type": "code",
      "metadata": {
        "id": "dt4dyK5b-wT5"
      },
      "source": [
        "key = []\n",
        "for i in range(key_length):\n",
        "  key.append(0)"
      ],
      "execution_count": null,
      "outputs": []
    },
    {
      "cell_type": "code",
      "metadata": {
        "id": "bLsLrL4JBuiu"
      },
      "source": [
        "clusters = []\n",
        "\n",
        "def combineRelevantLetters(cluster_no):\n",
        "  sub_cluster = []\n",
        "  i = cluster_no\n",
        "  while i < len(cipher_text):\n",
        "    sub_cluster.append(i)\n",
        "    i += key_length\n",
        "  clusters.append(sub_cluster)"
      ],
      "execution_count": null,
      "outputs": []
    },
    {
      "cell_type": "code",
      "metadata": {
        "colab": {
          "base_uri": "https://localhost:8080/"
        },
        "id": "UrpEfQ4qEGzL",
        "outputId": "25150250-ea16-494b-de26-9408fd4c1436"
      },
      "source": [
        "for no in range(key_length):\n",
        "  combineRelevantLetters(no)\n",
        "\n",
        "# this cluster shows that which indexes of sub-cipher should be considered.\n",
        "# As we see in lectures, if key length is 5 we combine 0th 5th 10th 15th.. chars togather\n",
        "for i in clusters:\n",
        "  print(i)"
      ],
      "execution_count": null,
      "outputs": [
        {
          "output_type": "stream",
          "name": "stdout",
          "text": [
            "[0, 5, 10, 15, 20, 25, 30, 35, 40, 45, 50, 55, 60, 65, 70, 75, 80, 85, 90, 95, 100, 105, 110, 115, 120, 125, 130, 135, 140, 145, 150, 155, 160, 165, 170, 175, 180, 185, 190, 195, 200, 205, 210, 215, 220, 225, 230, 235, 240, 245, 250, 255, 260, 265, 270, 275, 280, 285, 290, 295, 300, 305, 310, 315, 320, 325, 330, 335, 340, 345, 350, 355, 360, 365, 370, 375, 380, 385, 390, 395, 400, 405, 410, 415, 420, 425, 430, 435, 440, 445, 450, 455, 460, 465, 470, 475, 480, 485, 490, 495, 500, 505, 510, 515, 520, 525, 530, 535, 540, 545, 550, 555, 560, 565, 570, 575, 580, 585, 590, 595, 600, 605, 610, 615, 620, 625, 630, 635, 640, 645, 650, 655, 660, 665, 670, 675, 680, 685, 690, 695, 700, 705, 710, 715, 720, 725, 730, 735, 740, 745, 750, 755, 760, 765, 770, 775, 780, 785, 790, 795, 800, 805, 810, 815, 820, 825, 830, 835, 840, 845, 850]\n",
            "[1, 6, 11, 16, 21, 26, 31, 36, 41, 46, 51, 56, 61, 66, 71, 76, 81, 86, 91, 96, 101, 106, 111, 116, 121, 126, 131, 136, 141, 146, 151, 156, 161, 166, 171, 176, 181, 186, 191, 196, 201, 206, 211, 216, 221, 226, 231, 236, 241, 246, 251, 256, 261, 266, 271, 276, 281, 286, 291, 296, 301, 306, 311, 316, 321, 326, 331, 336, 341, 346, 351, 356, 361, 366, 371, 376, 381, 386, 391, 396, 401, 406, 411, 416, 421, 426, 431, 436, 441, 446, 451, 456, 461, 466, 471, 476, 481, 486, 491, 496, 501, 506, 511, 516, 521, 526, 531, 536, 541, 546, 551, 556, 561, 566, 571, 576, 581, 586, 591, 596, 601, 606, 611, 616, 621, 626, 631, 636, 641, 646, 651, 656, 661, 666, 671, 676, 681, 686, 691, 696, 701, 706, 711, 716, 721, 726, 731, 736, 741, 746, 751, 756, 761, 766, 771, 776, 781, 786, 791, 796, 801, 806, 811, 816, 821, 826, 831, 836, 841, 846, 851]\n",
            "[2, 7, 12, 17, 22, 27, 32, 37, 42, 47, 52, 57, 62, 67, 72, 77, 82, 87, 92, 97, 102, 107, 112, 117, 122, 127, 132, 137, 142, 147, 152, 157, 162, 167, 172, 177, 182, 187, 192, 197, 202, 207, 212, 217, 222, 227, 232, 237, 242, 247, 252, 257, 262, 267, 272, 277, 282, 287, 292, 297, 302, 307, 312, 317, 322, 327, 332, 337, 342, 347, 352, 357, 362, 367, 372, 377, 382, 387, 392, 397, 402, 407, 412, 417, 422, 427, 432, 437, 442, 447, 452, 457, 462, 467, 472, 477, 482, 487, 492, 497, 502, 507, 512, 517, 522, 527, 532, 537, 542, 547, 552, 557, 562, 567, 572, 577, 582, 587, 592, 597, 602, 607, 612, 617, 622, 627, 632, 637, 642, 647, 652, 657, 662, 667, 672, 677, 682, 687, 692, 697, 702, 707, 712, 717, 722, 727, 732, 737, 742, 747, 752, 757, 762, 767, 772, 777, 782, 787, 792, 797, 802, 807, 812, 817, 822, 827, 832, 837, 842, 847, 852]\n",
            "[3, 8, 13, 18, 23, 28, 33, 38, 43, 48, 53, 58, 63, 68, 73, 78, 83, 88, 93, 98, 103, 108, 113, 118, 123, 128, 133, 138, 143, 148, 153, 158, 163, 168, 173, 178, 183, 188, 193, 198, 203, 208, 213, 218, 223, 228, 233, 238, 243, 248, 253, 258, 263, 268, 273, 278, 283, 288, 293, 298, 303, 308, 313, 318, 323, 328, 333, 338, 343, 348, 353, 358, 363, 368, 373, 378, 383, 388, 393, 398, 403, 408, 413, 418, 423, 428, 433, 438, 443, 448, 453, 458, 463, 468, 473, 478, 483, 488, 493, 498, 503, 508, 513, 518, 523, 528, 533, 538, 543, 548, 553, 558, 563, 568, 573, 578, 583, 588, 593, 598, 603, 608, 613, 618, 623, 628, 633, 638, 643, 648, 653, 658, 663, 668, 673, 678, 683, 688, 693, 698, 703, 708, 713, 718, 723, 728, 733, 738, 743, 748, 753, 758, 763, 768, 773, 778, 783, 788, 793, 798, 803, 808, 813, 818, 823, 828, 833, 838, 843, 848, 853]\n",
            "[4, 9, 14, 19, 24, 29, 34, 39, 44, 49, 54, 59, 64, 69, 74, 79, 84, 89, 94, 99, 104, 109, 114, 119, 124, 129, 134, 139, 144, 149, 154, 159, 164, 169, 174, 179, 184, 189, 194, 199, 204, 209, 214, 219, 224, 229, 234, 239, 244, 249, 254, 259, 264, 269, 274, 279, 284, 289, 294, 299, 304, 309, 314, 319, 324, 329, 334, 339, 344, 349, 354, 359, 364, 369, 374, 379, 384, 389, 394, 399, 404, 409, 414, 419, 424, 429, 434, 439, 444, 449, 454, 459, 464, 469, 474, 479, 484, 489, 494, 499, 504, 509, 514, 519, 524, 529, 534, 539, 544, 549, 554, 559, 564, 569, 574, 579, 584, 589, 594, 599, 604, 609, 614, 619, 624, 629, 634, 639, 644, 649, 654, 659, 664, 669, 674, 679, 684, 689, 694, 699, 704, 709, 714, 719, 724, 729, 734, 739, 744, 749, 754, 759, 764, 769, 774, 779, 784, 789, 794, 799, 804, 809, 814, 819, 824, 829, 834, 839, 844, 849]\n"
          ]
        }
      ]
    },
    {
      "cell_type": "code",
      "metadata": {
        "id": "7qEoX_mMP9A1"
      },
      "source": [
        "letter_count = {'A':0, 'B':0, 'C':0, 'D':0, 'E':0, 'F':0, 'G':0, 'H':0, 'I':0,\n",
        "                'J':0, 'K':0, 'L':0, 'M':0, 'N':0, 'O':0, 'P':0, 'Q':0,\n",
        "                'R':0, 'S':0, 'T':0, 'U':0, 'V':0, 'W':0, 'X':0, 'Y':0,\n",
        "                'Z':0}\n",
        "\n",
        "letter_counts_array = []\n",
        "\n",
        "for c_num in range(key_length):\n",
        "  # reseting letter_count dictionary\n",
        "  letter_count = {'A':0, 'B':0, 'C':0, 'D':0, 'E':0, 'F':0, 'G':0, 'H':0, 'I':0,\n",
        "                'J':0, 'K':0, 'L':0, 'M':0, 'N':0, 'O':0, 'P':0, 'Q':0,\n",
        "                'R':0, 'S':0, 'T':0, 'U':0, 'V':0, 'W':0, 'X':0, 'Y':0,\n",
        "                'Z':0}\n",
        "  for j in range(len(clusters[c_num])):\n",
        "    letter_count[cipher_text[clusters[c_num][j]]] += 1\n",
        "  letter_counts_array.append(letter_count)\n",
        "    "
      ],
      "execution_count": null,
      "outputs": []
    },
    {
      "cell_type": "code",
      "metadata": {
        "colab": {
          "base_uri": "https://localhost:8080/"
        },
        "id": "AOPGzt7XQT55",
        "outputId": "a38baacd-3236-44ef-b17f-5d90d5aa8e29"
      },
      "source": [
        "for i in range(len(letter_counts_array)):\n",
        "  print(\"for cluster\", i, \":\",letter_counts_array[i])"
      ],
      "execution_count": null,
      "outputs": [
        {
          "output_type": "stream",
          "name": "stdout",
          "text": [
            "for cluster 0 : {'A': 18, 'B': 5, 'C': 2, 'D': 1, 'E': 0, 'F': 5, 'G': 0, 'H': 14, 'I': 2, 'J': 6, 'K': 7, 'L': 28, 'M': 3, 'N': 2, 'O': 10, 'P': 12, 'Q': 2, 'R': 1, 'S': 5, 'T': 4, 'U': 13, 'V': 11, 'W': 2, 'X': 0, 'Y': 9, 'Z': 9}\n",
            "for cluster 1 : {'A': 18, 'B': 4, 'C': 3, 'D': 3, 'E': 20, 'F': 1, 'G': 2, 'H': 9, 'I': 10, 'J': 0, 'K': 1, 'L': 8, 'M': 5, 'N': 16, 'O': 14, 'P': 2, 'Q': 1, 'R': 9, 'S': 11, 'T': 16, 'U': 13, 'V': 0, 'W': 1, 'X': 0, 'Y': 4, 'Z': 0}\n",
            "for cluster 2 : {'A': 5, 'B': 1, 'C': 22, 'D': 5, 'E': 3, 'F': 9, 'G': 15, 'H': 1, 'I': 0, 'J': 8, 'K': 7, 'L': 18, 'M': 12, 'N': 1, 'O': 1, 'P': 8, 'Q': 6, 'R': 22, 'S': 9, 'T': 1, 'U': 0, 'V': 0, 'W': 3, 'X': 0, 'Y': 14, 'Z': 0}\n",
            "for cluster 3 : {'A': 10, 'B': 1, 'C': 6, 'D': 7, 'E': 17, 'F': 1, 'G': 1, 'H': 7, 'I': 17, 'J': 1, 'K': 1, 'L': 9, 'M': 4, 'N': 10, 'O': 16, 'P': 2, 'Q': 2, 'R': 10, 'S': 11, 'T': 20, 'U': 10, 'V': 1, 'W': 3, 'X': 0, 'Y': 4, 'Z': 0}\n",
            "for cluster 4 : {'A': 4, 'B': 13, 'C': 11, 'D': 1, 'E': 1, 'F': 15, 'G': 11, 'H': 17, 'I': 11, 'J': 4, 'K': 3, 'L': 0, 'M': 6, 'N': 0, 'O': 10, 'P': 1, 'Q': 4, 'R': 7, 'S': 17, 'T': 4, 'U': 3, 'V': 8, 'W': 14, 'X': 1, 'Y': 1, 'Z': 3}\n"
          ]
        }
      ]
    },
    {
      "cell_type": "code",
      "metadata": {
        "id": "YWEjQz5zldHi"
      },
      "source": [
        "sorted_letter_counts = []\n",
        "for i in range(len(letter_counts_array)):\n",
        "  sorted_letter_counts.append(list(reversed(sorted(letter_counts_array[i].items(), key=lambda kv: kv[1]))))\n",
        "  #sorted_letter_counts.append(sorted(letter_counts_array[i].items(), key=lambda kv: kv[1])) "
      ],
      "execution_count": null,
      "outputs": []
    },
    {
      "cell_type": "code",
      "metadata": {
        "colab": {
          "base_uri": "https://localhost:8080/"
        },
        "id": "JI3CigGMlmzm",
        "outputId": "3907b971-df59-49f3-810c-51a4a189fb6f"
      },
      "source": [
        "for i in range(len(sorted_letter_counts)):\n",
        "  print(\"for cluster\", i, \":\",sorted_letter_counts[i])"
      ],
      "execution_count": null,
      "outputs": [
        {
          "output_type": "stream",
          "name": "stdout",
          "text": [
            "for cluster 0 : [('L', 28), ('A', 18), ('H', 14), ('U', 13), ('P', 12), ('V', 11), ('O', 10), ('Z', 9), ('Y', 9), ('K', 7), ('J', 6), ('S', 5), ('F', 5), ('B', 5), ('T', 4), ('M', 3), ('W', 2), ('Q', 2), ('N', 2), ('I', 2), ('C', 2), ('R', 1), ('D', 1), ('X', 0), ('G', 0), ('E', 0)]\n",
            "for cluster 1 : [('E', 20), ('A', 18), ('T', 16), ('N', 16), ('O', 14), ('U', 13), ('S', 11), ('I', 10), ('R', 9), ('H', 9), ('L', 8), ('M', 5), ('Y', 4), ('B', 4), ('D', 3), ('C', 3), ('P', 2), ('G', 2), ('W', 1), ('Q', 1), ('K', 1), ('F', 1), ('Z', 0), ('X', 0), ('V', 0), ('J', 0)]\n",
            "for cluster 2 : [('R', 22), ('C', 22), ('L', 18), ('G', 15), ('Y', 14), ('M', 12), ('S', 9), ('F', 9), ('P', 8), ('J', 8), ('K', 7), ('Q', 6), ('D', 5), ('A', 5), ('W', 3), ('E', 3), ('T', 1), ('O', 1), ('N', 1), ('H', 1), ('B', 1), ('Z', 0), ('X', 0), ('V', 0), ('U', 0), ('I', 0)]\n",
            "for cluster 3 : [('T', 20), ('I', 17), ('E', 17), ('O', 16), ('S', 11), ('U', 10), ('R', 10), ('N', 10), ('A', 10), ('L', 9), ('H', 7), ('D', 7), ('C', 6), ('Y', 4), ('M', 4), ('W', 3), ('Q', 2), ('P', 2), ('V', 1), ('K', 1), ('J', 1), ('G', 1), ('F', 1), ('B', 1), ('Z', 0), ('X', 0)]\n",
            "for cluster 4 : [('S', 17), ('H', 17), ('F', 15), ('W', 14), ('B', 13), ('I', 11), ('G', 11), ('C', 11), ('O', 10), ('V', 8), ('R', 7), ('M', 6), ('T', 4), ('Q', 4), ('J', 4), ('A', 4), ('Z', 3), ('U', 3), ('K', 3), ('Y', 1), ('X', 1), ('P', 1), ('E', 1), ('D', 1), ('N', 0), ('L', 0)]\n"
          ]
        }
      ]
    },
    {
      "cell_type": "code",
      "metadata": {
        "colab": {
          "base_uri": "https://localhost:8080/"
        },
        "id": "LwPmr1rrnkY5",
        "outputId": "a1d28101-d8e2-4661-f1be-0a41f0342c40"
      },
      "source": [
        "\n",
        "k1 = (letters['L'] - letters['E']) % 26\n",
        "k2 = (letters['E'] - letters['E']) % 26\n",
        "\n",
        "k3 = (letters['R'] - letters['E']) % 26\n",
        "k3_1 = (letters['C'] - letters['E']) % 26\n",
        "\n",
        "k4_x = (letters['T'] - letters['E']) % 26 # this did not work then i tried second most common letter in alphabet\n",
        "k4 = (letters['T'] - letters['T']) % 26\n",
        "\n",
        "k5 = (letters['S'] - letters['E']) % 26\n",
        "k5_1 = (letters['H'] - letters['E']) % 26\n",
        "\n",
        "\n",
        "key1 =  [k1,k2,k3,k4,k5]\n",
        "key2 = [k1,k2,k3_1,k4,k5]\n",
        "key3 = [k1,k2,k3,k4,k5_1]\n",
        "key4 =  [k1,k2,k3_1,k4,k5_1]\n",
        "\n",
        "print(key1)\n",
        "print(key2)\n",
        "print(key3)\n",
        "print(key4)\n"
      ],
      "execution_count": null,
      "outputs": [
        {
          "output_type": "stream",
          "name": "stdout",
          "text": [
            "[7, 0, 13, 0, 14]\n",
            "[7, 0, 24, 0, 14]\n",
            "[7, 0, 13, 0, 3]\n",
            "[7, 0, 24, 0, 3]\n"
          ]
        }
      ]
    },
    {
      "cell_type": "code",
      "metadata": {
        "colab": {
          "base_uri": "https://localhost:8080/"
        },
        "id": "pdw9d1JZof_3",
        "outputId": "0081e23c-8d38-4554-d7e8-0c4f6e4b3f84"
      },
      "source": [
        "key1_string = \"\"\n",
        "key2_string = \"\" \n",
        "key3_string = \"\"\n",
        "key4_string = \"\"\n",
        "\n",
        "for i in range(key_length):\n",
        "  key1_string += inv_letters[key1[i]]\n",
        "  key2_string += inv_letters[key2[i]]\n",
        "  key3_string += inv_letters[key3[i]]\n",
        "  key4_string += inv_letters[key4[i]]\n",
        "  \n",
        "  \n",
        "print(\"key option 1:\", key1_string)\n",
        "print(\"key option 2:\", key2_string)\n",
        "print(\"key option 3:\", key3_string)\n",
        "print(\"key option 4:\", key4_string)\n"
      ],
      "execution_count": null,
      "outputs": [
        {
          "output_type": "stream",
          "name": "stdout",
          "text": [
            "key option 1: HANAO\n",
            "key option 2: HAYAO\n",
            "key option 3: HANAD\n",
            "key option 4: HAYAD\n"
          ]
        }
      ]
    },
    {
      "cell_type": "code",
      "metadata": {
        "colab": {
          "base_uri": "https://localhost:8080/",
          "height": 116
        },
        "id": "tjfhwVYepbnv",
        "outputId": "bb497e6b-a825-4fb6-8028-646fd67b1758"
      },
      "source": [
        "plaintext = \"\"\n",
        "i = 0\n",
        "for char in cipher_text:\n",
        "  plaintext += inv_letters[(letters[char] - key2[i%key_length]) % 26]\n",
        "  i += 1\n",
        "\n",
        "def insertChar(text, char, index):\n",
        "    return text[:index] + char + text[index:]\n",
        "\n",
        "# putting back to removed symbols with the help of opriginal cipher\n",
        "for i in range(len(cipher_text_original)):\n",
        "  if(cipher_text_original[i] == ' '):\n",
        "    plaintext = insertChar(plaintext, ' ', i)\n",
        "  elif(cipher_text_original[i] == '.'):\n",
        "    plaintext = insertChar(plaintext, '.', i)\n",
        "  elif(cipher_text_original[i] == '-'):\n",
        "    plaintext = insertChar(plaintext, '-', i)\n",
        "  elif(cipher_text_original[i] == ','):\n",
        "    plaintext = insertChar(plaintext, ',', i)\n",
        "  elif(cipher_text_original[i] == '\\''):\n",
        "    plaintext = insertChar(plaintext, '\\'', i)\n",
        "\n",
        "# adjusting letter whether lower or upper according to the original cipher\n",
        "for i in range(len(cipher_text_original)):\n",
        "  if(cipher_text_original[i].islower()):\n",
        "    to_be_replaced = plaintext[i].lower()\n",
        "    plaintext = plaintext[:i] + to_be_replaced + plaintext[i+1:]\n",
        "\n",
        "plaintext"
      ],
      "execution_count": null,
      "outputs": [
        {
          "output_type": "execute_result",
          "data": {
            "application/vnd.google.colaboratory.intrinsic+json": {
              "type": "string"
            },
            "text/plain": [
              "\"But there is one way in this country in which all men are created equal-there is one human institution that makes a pauper the equal of a Rockefeller, the stupid man the equal of an Einstein, and the ignorant man the equal of any college president. That institution, gentlemen, is a court. It can be the Supreme Court of the United Etates or the humblest J.P court in the land, or this honorable court which you serve. Our courts have their faults, as does any human institution, but in this country our courts are the great levelers, and in our courts all men are created equal. I'm no idealist to believe firmly in the integrity of our courts and in the jury-system that is no ideal to me, it is a living, working reality. Gentlemen, a court is no better than each man of you sitting before me on this jury. A court is only as sound as its jury, and a jury is only as sound as the men who make it up. I am confident that you gentlemen will review without passion the evidence you have heard, come to a decision, and restore this defendant to his family. In the name of God, do your duty.\""
            ]
          },
          "metadata": {},
          "execution_count": 238
        }
      ]
    },
    {
      "cell_type": "code",
      "metadata": {
        "colab": {
          "base_uri": "https://localhost:8080/"
        },
        "id": "YmtLNGF2sjoV",
        "outputId": "4e2346e3-18db-4af8-e4dc-943327da7ca3"
      },
      "source": [
        "print(\"the key was\", key2_string)"
      ],
      "execution_count": null,
      "outputs": [
        {
          "output_type": "stream",
          "name": "stdout",
          "text": [
            "the key was HAYAO\n"
          ]
        }
      ]
    },
    {
      "cell_type": "code",
      "metadata": {
        "id": "YzJFPotYHZU-",
        "colab": {
          "base_uri": "https://localhost:8080/"
        },
        "outputId": "9d9f6b85-0626-4b08-f7da-64eaa89e14c0"
      },
      "source": [
        "print('--------- problem 8 finish ---------')"
      ],
      "execution_count": 8,
      "outputs": [
        {
          "output_type": "stream",
          "name": "stdout",
          "text": [
            "--------- problem 8 finish ---------\n"
          ]
        }
      ]
    },
    {
      "cell_type": "code",
      "metadata": {
        "id": "jMDTIZ5nJpdY"
      },
      "source": [
        ""
      ],
      "execution_count": null,
      "outputs": []
    }
  ]
}