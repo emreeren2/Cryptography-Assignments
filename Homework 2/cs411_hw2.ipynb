{
  "nbformat": 4,
  "nbformat_minor": 0,
  "metadata": {
    "colab": {
      "name": "cs411_hw2.ipynb",
      "provenance": [],
      "collapsed_sections": [
        "pMzsjuQCax5Q",
        "qUPihA9_b_PR",
        "4bH2urIGcR-6",
        "V_-LV-F5cVsi",
        "hEOpT_WgiTE4"
      ]
    },
    "kernelspec": {
      "name": "python3",
      "display_name": "Python 3"
    },
    "language_info": {
      "name": "python"
    }
  },
  "cells": [
    {
      "cell_type": "code",
      "metadata": {
        "colab": {
          "base_uri": "https://localhost:8080/"
        },
        "id": "eGPJWgSt55Ji",
        "outputId": "204c857a-4b59-4898-cc7b-e3b4b4990e56"
      },
      "source": [
        "!pip install pycryptodome"
      ],
      "execution_count": 2,
      "outputs": [
        {
          "output_type": "stream",
          "name": "stdout",
          "text": [
            "Collecting pycryptodome\n",
            "  Downloading pycryptodome-3.11.0-cp35-abi3-manylinux2010_x86_64.whl (1.9 MB)\n",
            "\u001b[K     |████████████████████████████████| 1.9 MB 7.9 MB/s \n",
            "\u001b[?25hInstalling collected packages: pycryptodome\n",
            "Successfully installed pycryptodome-3.11.0\n"
          ]
        }
      ]
    },
    {
      "cell_type": "code",
      "metadata": {
        "id": "B2zeoUGIsxQ_"
      },
      "source": [
        "from math import gcd\n",
        "import random\n",
        "import warnings\n",
        "import sympy\n",
        "import requests\n",
        "import fractions\n",
        "import copy \n",
        "from Crypto.Cipher import Salsa20"
      ],
      "execution_count": 3,
      "outputs": []
    },
    {
      "cell_type": "code",
      "metadata": {
        "id": "fy_Ll0Zgnqiw"
      },
      "source": [
        "#API_URL = 'http://10.36.52.109:6000'\n",
        "API_URL = 'http://cryptlygos.pythonanywhere.com'\n",
        "\n",
        "my_id = 25139   \n",
        "\n",
        "def getQ1():\n",
        "  endpoint = '{}/{}/{}'.format(API_URL, \"Q1\", my_id )\n",
        "  response = requests.get(endpoint) \t\n",
        "  if response.ok:\t\n",
        "    res = response.json()\n",
        "    print(res)\n",
        "    n, t = res['n'], res['t']\n",
        "    return n,t\n",
        "  else: print(response.json())\n",
        "\n",
        "def checkQ1a(order):   #check your answer for Question 1 part a\n",
        "  endpoint = '{}/{}/{}/{}'.format(API_URL, \"checkQ1a\", my_id, order)\n",
        "  response = requests.put(endpoint) \t\n",
        "  print(response.json())\n",
        "\n",
        "def checkQ1b(g):  #check your answer for Question 1 part b\n",
        "  endpoint = '{}/{}/{}/{}'.format(API_URL, \"checkQ1b\", my_id, g )\t#gH is generator of your subgroup\n",
        "  response = requests.put(endpoint) \t#check result\n",
        "  print(response.json())\n",
        "\n",
        "def checkQ1c(gH):  #check your answer for Question 1 part c\n",
        "  endpoint = '{}/{}/{}/{}'.format(API_URL, \"checkQ1c\", my_id, gH )\t#gH is generator of your subgroup\n",
        "  response = requests.put(endpoint) \t#check result\n",
        "  print(response.json())\n",
        "\n",
        "\n",
        "def getQ2():\n",
        "  endpoint = '{}/{}/{}'.format(API_URL, \"Q2\", my_id )\n",
        "  response = requests.get(endpoint) \t\n",
        "  if response.ok:\t\n",
        "    res = response.json()\n",
        "    e, cipher = res['e'], res['cipher']\n",
        "    return e, cipher\n",
        "  else:  print(response.json())\n",
        "\n",
        "def checkQ2(ptext):  #check your answer for Question 1 part c\n",
        "  response = requests.put('{}/{}'.format(API_URL, \"checkQ2\"), json = {\"ID\": my_id, \"msg\":ptext})\n",
        "  print(response.json())"
      ],
      "execution_count": 4,
      "outputs": []
    },
    {
      "cell_type": "markdown",
      "metadata": {
        "id": "t_10khu6pcYM"
      },
      "source": [
        "# Question 1"
      ]
    },
    {
      "cell_type": "code",
      "metadata": {
        "colab": {
          "base_uri": "https://localhost:8080/"
        },
        "id": "3Yj7ausromfq",
        "outputId": "1ec7447b-c131-4013-e498-6fa868156c20"
      },
      "source": [
        "n,t = getQ1()"
      ],
      "execution_count": 5,
      "outputs": [
        {
          "output_type": "stream",
          "name": "stdout",
          "text": [
            "{'n': 179, 't': 89}\n"
          ]
        }
      ]
    },
    {
      "cell_type": "markdown",
      "metadata": {
        "id": "ic2o-6OzqAe9"
      },
      "source": [
        "## A)"
      ]
    },
    {
      "cell_type": "code",
      "metadata": {
        "id": "V3Np7fUho6dA"
      },
      "source": [
        "def phiList(n):\n",
        "\tphi_list = []\n",
        "\tfor i in range(1,n+1):\n",
        "\t\tif gcd(n,i) == 1 :\n",
        "\t\t\tphi_list.append(i)\n",
        "\treturn phi_list"
      ],
      "execution_count": 6,
      "outputs": []
    },
    {
      "cell_type": "code",
      "metadata": {
        "colab": {
          "base_uri": "https://localhost:8080/"
        },
        "id": "3SLFWFC-r68m",
        "outputId": "ca9f307b-3a9a-4a04-8723-5e3b0ca3212a"
      },
      "source": [
        "phi_list = phiList(n)\n",
        "num_elements = len(phi_list)\n",
        "print(\"There are\", num_elements, \"elements\")\n",
        "checkQ1a(num_elements)"
      ],
      "execution_count": 7,
      "outputs": [
        {
          "output_type": "stream",
          "name": "stdout",
          "text": [
            "There are 178 elements\n",
            "Congrats!\n"
          ]
        }
      ]
    },
    {
      "cell_type": "markdown",
      "metadata": {
        "id": "n49VzNFfqHEk"
      },
      "source": [
        "## B)"
      ]
    },
    {
      "cell_type": "code",
      "metadata": {
        "id": "qjvYyOWrpnIs"
      },
      "source": [
        "def findGenerators(n):\n",
        "  group = phiList(n)\n",
        "  generators = []\n",
        "  for num in group:\n",
        "    generated_numbers = []\n",
        "    for power in group:\n",
        "      generated_num = pow(num,power) % n\n",
        "      generated_numbers.append(generated_num)\n",
        "    generated_numbers.sort()            # since \"group\" array is obtained sorted, we should sort \"generated_number\"\n",
        "    if(generated_numbers == group):     # if we don't sort, even if the all numbers in generated_number is same with the numbers in group array\n",
        "      generators.append(num)            # \"generated_numbers == group\" statements will return false, (even numbers in the arrays are same)\n",
        "  return generators"
      ],
      "execution_count": 8,
      "outputs": []
    },
    {
      "cell_type": "code",
      "metadata": {
        "colab": {
          "base_uri": "https://localhost:8080/"
        },
        "id": "CmeneEDsuCWr",
        "outputId": "c6e992bb-81fd-41f7-fed6-10ecc7e8e82e"
      },
      "source": [
        "generators = findGenerators(n)\n",
        "print(generators)\n",
        "\n",
        "for num in generators:\n",
        "  checkQ1b(num)"
      ],
      "execution_count": 9,
      "outputs": [
        {
          "output_type": "stream",
          "name": "stdout",
          "text": [
            "[2, 6, 7, 8, 10, 11, 18, 21, 23, 24, 26, 28, 30, 32, 33, 34, 35, 37, 38, 40, 41, 44, 50, 53, 54, 55, 58, 62, 63, 69, 71, 72, 73, 78, 79, 84, 86, 90, 91, 92, 94, 96, 97, 98, 99, 102, 103, 104, 105, 109, 111, 112, 113, 114, 115, 118, 119, 120, 122, 123, 127, 128, 130, 131, 132, 133, 134, 136, 137, 140, 143, 148, 150, 152, 154, 157, 159, 160, 162, 163, 164, 165, 166, 167, 170, 174, 175, 176]\n",
            "Congrats!\n",
            "Congrats!\n",
            "Congrats!\n",
            "Congrats!\n",
            "Congrats!\n",
            "Congrats!\n",
            "Congrats!\n",
            "Congrats!\n",
            "Congrats!\n",
            "Congrats!\n",
            "Congrats!\n",
            "Congrats!\n",
            "Congrats!\n",
            "Congrats!\n",
            "Congrats!\n",
            "Congrats!\n",
            "Congrats!\n",
            "Congrats!\n",
            "Congrats!\n",
            "Congrats!\n",
            "Congrats!\n",
            "Congrats!\n",
            "Congrats!\n",
            "Congrats!\n",
            "Congrats!\n",
            "Congrats!\n",
            "Congrats!\n",
            "Congrats!\n",
            "Congrats!\n",
            "Congrats!\n",
            "Congrats!\n",
            "Congrats!\n",
            "Congrats!\n",
            "Congrats!\n",
            "Congrats!\n",
            "Congrats!\n",
            "Congrats!\n",
            "Congrats!\n",
            "Congrats!\n",
            "Congrats!\n",
            "Congrats!\n",
            "Congrats!\n",
            "Congrats!\n",
            "Congrats!\n",
            "Congrats!\n",
            "Congrats!\n",
            "Congrats!\n",
            "Congrats!\n",
            "Congrats!\n",
            "Congrats!\n",
            "Congrats!\n",
            "Congrats!\n",
            "Congrats!\n",
            "Congrats!\n",
            "Congrats!\n",
            "Congrats!\n",
            "Congrats!\n",
            "Congrats!\n",
            "Congrats!\n",
            "Congrats!\n",
            "Congrats!\n",
            "Congrats!\n",
            "Congrats!\n",
            "Congrats!\n",
            "Congrats!\n",
            "Congrats!\n",
            "Congrats!\n",
            "Congrats!\n",
            "Congrats!\n",
            "Congrats!\n",
            "Congrats!\n",
            "Congrats!\n",
            "Congrats!\n",
            "Congrats!\n",
            "Congrats!\n",
            "Congrats!\n",
            "Congrats!\n",
            "Congrats!\n",
            "Congrats!\n",
            "Congrats!\n",
            "Congrats!\n",
            "Congrats!\n",
            "Congrats!\n",
            "Congrats!\n",
            "Congrats!\n",
            "Congrats!\n",
            "Congrats!\n",
            "Congrats!\n"
          ]
        }
      ]
    },
    {
      "cell_type": "markdown",
      "metadata": {
        "id": "tqCO32WrqMJV"
      },
      "source": [
        "## C)"
      ]
    },
    {
      "cell_type": "markdown",
      "metadata": {
        "id": "xnt-sMvxHSbz"
      },
      "source": [
        "# Question 2"
      ]
    },
    {
      "cell_type": "code",
      "metadata": {
        "colab": {
          "base_uri": "https://localhost:8080/"
        },
        "id": "UCYPeauMHnBX",
        "outputId": "e438d5b4-7c2c-4a33-8409-9eaf73be8f52"
      },
      "source": [
        "e, cipher = getQ2()\n",
        "p = 23736540918088479407817876031701066644301064882958875296167214819014438374011661672830210955539507252066999384067356159056835877781419479023313149139444707\n",
        "q = 62179896404564992443617709894241054520624355558658288422696178839274611833136662241430162694076231401545584449128278988404970580015985140542451087049794069\n",
        "\n",
        "print(\"p:\", p)\n",
        "print(\"q:\", q)\n",
        "print(\"e:\", e)\n",
        "print(\"cipher:\", cipher)"
      ],
      "execution_count": 10,
      "outputs": [
        {
          "output_type": "stream",
          "name": "stdout",
          "text": [
            "p: 23736540918088479407817876031701066644301064882958875296167214819014438374011661672830210955539507252066999384067356159056835877781419479023313149139444707\n",
            "q: 62179896404564992443617709894241054520624355558658288422696178839274611833136662241430162694076231401545584449128278988404970580015985140542451087049794069\n",
            "e: 185503776765679134853798514247357905238663787570976704778415198108307957852015922007511917679026650695023344314298085376061795233414351439057156580167895847525243705224484408574765613845738385339349340934952212525531850236350718138604454864691947395651806246710224550662696501493236004768174193321036095696333\n",
            "cipher: 1382962432861524059114619705506633246174039320243877159207044167153725846983002339740478691644743954005710593360414217960310756848022335700479703264741449450273428840844597719855761441945381603336599236003463680581340268873701589448470911175038477252966266088248460855186178239072646421678078575364701124475730\n"
          ]
        }
      ]
    },
    {
      "cell_type": "code",
      "metadata": {
        "id": "TWylYszuHzWU"
      },
      "source": [
        "def modinv(a, m):\n",
        "\tg, x, y = egcd(a, m)\n",
        "\tif g != 1:\n",
        "\t\treturn None\n",
        "\treturn x % m\n",
        "\n",
        "def phi(n):\n",
        "    amount = 0        \n",
        "    for k in range(1, n + 1):\n",
        "        if fractions.gcd(n, k) == 1:\n",
        "            amount += 1\n",
        "    return amount\n",
        "\n",
        "def egcd(a, b):\n",
        "    if a == 0:\n",
        "        return b, 0, 1\n",
        "    else:\n",
        "        gcd, x, y = egcd(b % a, a)\n",
        "        return gcd, y - (b // a) * x, x"
      ],
      "execution_count": 11,
      "outputs": []
    },
    {
      "cell_type": "code",
      "metadata": {
        "colab": {
          "base_uri": "https://localhost:8080/"
        },
        "id": "Ma-mnypYLL4S",
        "outputId": "9df1f5b6-b586-4439-b423-7101cff915ef"
      },
      "source": [
        "n = p * q\n",
        "phi_N = (p-1) * (q-1)\n",
        "d = modinv(e, phi_N)\n",
        "m = pow(cipher, d, n)\n",
        "print(\"m:\", m)\n",
        "byte_array = m.to_bytes((m.bit_length() // 8 + 1), byteorder = 'big')\n",
        "message = byte_array.decode(encoding = \"utf-8\")\n",
        "print(message)\n",
        "\n",
        "checkQ2(message)"
      ],
      "execution_count": 12,
      "outputs": [
        {
          "output_type": "stream",
          "name": "stdout",
          "text": [
            "m: 1409754382171986085528226313433989527792792785127086468413498824955659791387686055991775396242000938736285941546586431075797580151821938012249869737149106349694389190598466196672942790630705030995801279946083553194800\n",
            "Answer to the ultimate question of life, the universe, and everything is not 42. it is 730\n",
            "Congrats!\n"
          ]
        }
      ]
    },
    {
      "cell_type": "markdown",
      "metadata": {
        "id": "U4Z2XuzFMIsi"
      },
      "source": [
        "# Question 3\n"
      ]
    },
    {
      "cell_type": "code",
      "metadata": {
        "id": "q4rNpx8pMLDu"
      },
      "source": [
        "key = 314159265358979323 \n",
        "cipher_text_1 = b'1v-\\xdda\\x9d\\x13\\xf5y\\xd4M\\xcc\\xc2\\xd5\\xc9\\xe8\\xca\\xfcF\\xe1\\x7f\\xdd\\xabM,=c\\xa6\\x9e\\xd2M\\x11;9Bpna\\x91\\xb8\\xf5z>\\x0cZ\\x83\\x11\\xa7\\x01\\x1b\\xc2\\xc5$>\\x10\\xa2>\"#\\xc0\\x98\\xa4\\xc2\\xbd\\xa1\\xce\\x0f\\x17]\\x8c_\\xee\\xadT|'\n",
        "cipher_text_2 = b'\\x9d\\x131v-\\xdda\\xe9\\xf3,\\xca\\x02\\xd1\\xc9\\x9a\\xda\\xe1\\xce\\xfcM\\xed1\\xdb\\xb9\\r,\\x1b-\\xa6\\x88\\x84JTo7N>p}\\x9b\\xfb\\xa6e?\\x0bQ\\xc6_\\xa7\\x1d\\x1a\\x87\\x8c78\\x1a\\xa9\\x7f!!\\xce\\xdd\\xe9\\xd6\\xbd\\xf5\\x9a\\t\\x17G\\xc9K\\xf2\\xecDl\\xb0\\xca\\x86\\xa6\\xd7\\xde\\xe5zxf\\xd0\\xado\\xea'\n",
        "cipher_text_3 = b\"\\x00\\x04\\x00\\x00\\x00\\x00\\xfd7\\xc1\\x02\\xcf\\xc9\\x82\\xc4\\xe1\\xc7\\xf1D\\xef\\x7f\\xdd\\xab\\x10,\\x00,\\xea\\x9d\\xc1IC!qJ1ma\\x9b\\xba\\xe7f>\\x01N\\x83\\x0b\\xa7\\x0c\\t\\xde\\xc537\\x1b\\xfby='\\xca\\x89\\xe8\\xda\\xee\\xf3\\xdf\\x14\\x06V\\xc5[\\xf5\\xadOj\\xa9\\xc1\\x86\\xb4\\xdd\\x8d\\xff}|f\\xd2\\xado\\xe6r\\xf6\\xcf\\xe3\\xf1H\\xa6\\xdaA\\xcb\\x17\""
      ],
      "execution_count": 46,
      "outputs": []
    },
    {
      "cell_type": "code",
      "metadata": {
        "colab": {
          "base_uri": "https://localhost:8080/"
        },
        "id": "RAQY8UDtNdTM",
        "outputId": "72684ff0-34cb-4a03-e9a6-57aa2158a208"
      },
      "source": [
        "key = 31415926535897932384626433832795028841971693993751058209749445923078164062862 \n",
        "key = key.to_bytes(32, byteorder='big')\n",
        "\n",
        "nonce_option_1 = cipher_text_1[:8]\n",
        "nonce_option_2 = cipher_text_2[:8]\n",
        "nonce_option_3 = cipher_text_3[:8]\n",
        "\n",
        "cipher_text_1 = cipher_text_1[8:]\n",
        "cipher_text_2 = cipher_text_2[8:]\n",
        "cipher_text_3 = cipher_text_3[8:]\n",
        "\n",
        "cipher = Salsa20.new(key, nonce = nonce_option_1)\n",
        "dtext = cipher.decrypt(cipher_text_1)\n",
        "print(\"decoded text: \", dtext.decode('UTF-8', errors='ignore'))\n"
      ],
      "execution_count": 50,
      "outputs": [
        {
          "output_type": "stream",
          "name": "stdout",
          "text": [
            "decoded text:  \rp̀c{կ%\u001eEIi-5U#N~Nw\\H>\n"
          ]
        }
      ]
    },
    {
      "cell_type": "markdown",
      "metadata": {
        "id": "pMzsjuQCax5Q"
      },
      "source": [
        "# Question 4\n"
      ]
    },
    {
      "cell_type": "code",
      "metadata": {
        "id": "97cjLd5ka51A"
      },
      "source": [
        "def findSolutions(n, a, b):\n",
        "  solutions = []\n",
        "  if(gcd(a,n) == 1): # there is one solution,     case 1\n",
        "    solution = (b * modinv(a,n)) % n\n",
        "    solutions.append(solution)\n",
        "    return solutions\n",
        "  else:\n",
        "    d = gcd(a,n)\n",
        "    if(b % d == 0): # b is divisble by gcd(a,n),  case 2\n",
        "      a = a // d\n",
        "      b = b // d\n",
        "      n = n // d\n",
        "      solution = (b * modinv(a,n)) % n\n",
        "      for i in range(d):\n",
        "        solutions.append(solution)\n",
        "        solution += n\n",
        "      return solutions\n",
        "    else: # b is not divisble by gcd(a,n),        case 3\n",
        "      return solutions\n"
      ],
      "execution_count": 19,
      "outputs": []
    },
    {
      "cell_type": "markdown",
      "metadata": {
        "id": "qUPihA9_b_PR"
      },
      "source": [
        "##A)\n"
      ]
    },
    {
      "cell_type": "code",
      "metadata": {
        "colab": {
          "base_uri": "https://localhost:8080/"
        },
        "id": "qf6p8XxscYQ6",
        "outputId": "589e7c39-cc27-413d-92bc-7cd0f0376101"
      },
      "source": [
        "solutions = findSolutions( 100433627766186892221372630785266819260148210527888287465731, 336819975970284283819362806770432444188296307667557062083973, 25245096981323746816663608120290190011570612722965465081317   )\n",
        "if(len(solutions) == 1):\n",
        "  print(\"Solution is\",solutions)\n",
        "elif(len(solutions) == 0):\n",
        "  print(\"No solution\")\n",
        "else:\n",
        "  counter = 1\n",
        "  for element in solutions:\n",
        "    print(counter,\"solution:\",element)\n",
        "    counter+=1"
      ],
      "execution_count": 20,
      "outputs": [
        {
          "output_type": "stream",
          "name": "stdout",
          "text": [
            "Solution is [56884393062303769019751445983612369117060043083722821988604]\n"
          ]
        }
      ]
    },
    {
      "cell_type": "markdown",
      "metadata": {
        "id": "4bH2urIGcR-6"
      },
      "source": [
        "##B)"
      ]
    },
    {
      "cell_type": "code",
      "metadata": {
        "colab": {
          "base_uri": "https://localhost:8080/"
        },
        "id": "gVoHS9dkcFc6",
        "outputId": "dbf8140f-a479-4210-e2fe-3b3c94a2d8dd"
      },
      "source": [
        "solutions = findSolutions( 301300883298560676664117892355800457780444631583664862397193, 1070400563622371146605725585064882995936005838597136294785034, 1267565499436628521023818343520287296453722217373643204657115   )\n",
        "if(len(solutions) == 1):\n",
        "  print(\"Solution is\",solutions)\n",
        "elif(len(solutions) == 0):\n",
        "  print(\"No solution\")\n",
        "else:\n",
        "  counter = 1\n",
        "  for element in solutions:\n",
        "    print(counter,\"solution:\",element)\n",
        "    counter+=1"
      ],
      "execution_count": 21,
      "outputs": [
        {
          "output_type": "stream",
          "name": "stdout",
          "text": [
            "No solution\n"
          ]
        }
      ]
    },
    {
      "cell_type": "markdown",
      "metadata": {
        "id": "V_-LV-F5cVsi"
      },
      "source": [
        "## C)"
      ]
    },
    {
      "cell_type": "code",
      "metadata": {
        "colab": {
          "base_uri": "https://localhost:8080/"
        },
        "id": "TSRXsODLcYx6",
        "outputId": "353862f3-90d9-4a6f-98f9-85d917dd4e63"
      },
      "source": [
        "solutions = findSolutions( 301300883298560676664117892355800457780444631583664862397193, 608240182465796871639779713869214713721438443863110678327134, 721959177061605729962797351110052890685661147676448969745292   )\n",
        "if(len(solutions) == 1):\n",
        "  print(\"Solution is\",solutions)\n",
        "elif(len(solutions) == 0):\n",
        "  print(\"No solution\")\n",
        "else:\n",
        "  counter = 1\n",
        "  for element in solutions:\n",
        "    print(counter,\"solution:\",element)\n",
        "    counter+=1"
      ],
      "execution_count": 22,
      "outputs": [
        {
          "output_type": "stream",
          "name": "stdout",
          "text": [
            "1 solution: 9609279374756105288427021898499890361717105145551739027963\n",
            "2 solution: 110042907140942997509799652683766709621865315673440026493694\n",
            "3 solution: 210476534907129889731172283469033528882013526201328313959425\n"
          ]
        }
      ]
    },
    {
      "cell_type": "markdown",
      "metadata": {
        "id": "cQSchdqFiOS2"
      },
      "source": [
        "# Question 5"
      ]
    },
    {
      "cell_type": "markdown",
      "metadata": {
        "id": "hEOpT_WgiTE4"
      },
      "source": [
        "# Question 6"
      ]
    },
    {
      "cell_type": "code",
      "metadata": {
        "id": "PxrgH1WXiU08"
      },
      "source": [
        "def PolPrune(P):\n",
        "    n = len(P)\n",
        "    i = n-1\n",
        "    while (P[i] == 0):\n",
        "        del P[i]\n",
        "        i = i-1\n",
        "    return i\n",
        "\n",
        "def PolDeg(P):\n",
        "    n = len(P)\n",
        "    i = n-1\n",
        "    while (P[i] == 0):\n",
        "        i = i-1\n",
        "    return i\n",
        "\n",
        "# P gets Q\n",
        "def PolCopy(Q, P):\n",
        "    degP = len(P)\n",
        "    degQ = len(Q)\n",
        "    if degP >= degQ:\n",
        "        for i in range(0,degQ):\n",
        "            Q[i] = P[i]\n",
        "        for i in range(degQ, degP):\n",
        "            Q.append(P[i])\n",
        "    else: # degP < deqQ\n",
        "        for i in range(0,degP):\n",
        "            Q[i] = P[i]\n",
        "        for i in range(degP, degQ):\n",
        "            Q[i] = 0\n",
        "        PolPrune(Q)\n",
        "        \n",
        "def BM(s):\n",
        "    n = len(s)\n",
        "\n",
        "    C = []\n",
        "    B = []\n",
        "    T = []\n",
        "    L = 0\n",
        "    m = -1\n",
        "    i = 0\n",
        "    C.append(1)\n",
        "    B.append(1)\n",
        "\n",
        "    while(i<n):\n",
        "        delta = 0\n",
        "        clen = len(C)\n",
        "        for j in range(0, clen):\n",
        "            delta ^= (C[j]*s[i-j])\n",
        "        if delta == 1:\n",
        "            dif = i-m\n",
        "            PolCopy(T, C)\n",
        "            nlen = len(B)+dif\n",
        "            if(clen >= nlen):\n",
        "                for j in range(dif,nlen):\n",
        "                    C[j] = C[j] ^ B[j-dif]\n",
        "            else: # increase the degree of C\n",
        "                for j in range(clen, nlen):\n",
        "                    C.append(0)\n",
        "                for j in range(dif, nlen):\n",
        "                    C[j] = C[j] ^ B[j-dif]\n",
        "            PolPrune(C)\n",
        "            if L <= i/2:\n",
        "                L = i+1-L\n",
        "                m = i\n",
        "                PolCopy(B, T)  \n",
        "        i = i+1    \n",
        "    return L, C"
      ],
      "execution_count": 25,
      "outputs": []
    },
    {
      "cell_type": "code",
      "metadata": {
        "id": "RhRE_8e1iWx1"
      },
      "source": [
        "x1 = [0, 0, 1, 0, 1, 0, 0, 0, 0, 0, 1, 0, 0, 1, 0, 1, 1, 1, 1, 1, 0, 0, 0, 1, 1, 0, 0, 0, 0, 0, 1, 0, 0, 0, 0, 1, 0, 0, 1, 0, 0, 0, 0, 0, 1, 0, 1, 0, 1, 0, 1, 1, 0, 1, 0, 1, 1, 0, 1, 1, 0, 0, 1, 0, 0, 1, 1, 0, 1, 0, 0, 1, 0, 0, 1, 1, 0, 0, 1, 1, 0, 0, 0, 0]\n",
        "x2 = [0, 1, 0, 0, 0, 1, 0, 1, 1, 1, 1, 0, 1, 0, 0, 0, 0, 0, 0, 1, 1, 1, 1, 1, 0, 0, 0, 1, 0, 1, 1, 0, 0, 1, 0, 0, 0, 0, 1, 1, 1, 0, 1, 0, 0, 1, 0, 0, 1, 0, 1, 0, 1, 0, 1, 1, 0, 1, 0, 0, 0, 1, 0, 0, 0, 0, 0, 0, 0, 1, 1, 1, 1, 0, 1, 1, 1, 1, 1, 0, 1, 0, 0, 0, 0, 1, 1, 0, 0, 1]\n",
        "x3 = [1, 1, 1, 0, 1, 0, 1, 0, 0, 0, 1, 0, 0, 1, 1, 0, 1, 1, 0, 0, 0, 0, 0, 0, 1, 0, 0, 1, 1, 0, 0, 0, 1, 1, 0, 0, 1, 1, 0, 1, 1, 1, 1, 1, 0, 0, 1, 1, 1, 1, 1, 1, 1, 1, 1, 0, 1, 1, 1, 0, 1, 1, 0, 0, 0, 0, 0, 1, 1, 0, 0, 0, 1, 1, 1, 1, 1, 0, 0, 0, 1, 1, 1, 0, 0, 0, 0, 1, 1]"
      ],
      "execution_count": 23,
      "outputs": []
    },
    {
      "cell_type": "code",
      "metadata": {
        "id": "wxu8i9eNifL-"
      },
      "source": [
        "L1, C1 = BM(x1)\n",
        "L2, C2 = BM(x2)\n",
        "L3, C3 = BM(x3)"
      ],
      "execution_count": 26,
      "outputs": []
    },
    {
      "cell_type": "code",
      "metadata": {
        "colab": {
          "base_uri": "https://localhost:8080/"
        },
        "id": "wgeF8p35ixKo",
        "outputId": "e80789b4-584a-45c0-fc06-987e7fad9b25"
      },
      "source": [
        "print(\"linear complexity of x1 is\", L1)\n",
        "print(\"linear complexity of x2 is\", L2)\n",
        "print(\"linear complexity of x3 is\", L3)"
      ],
      "execution_count": 30,
      "outputs": [
        {
          "output_type": "stream",
          "name": "stdout",
          "text": [
            "linear complexity of x1 is 31\n",
            "linear complexity of x2 is 31\n",
            "linear complexity of x3 is 31\n"
          ]
        }
      ]
    },
    {
      "cell_type": "code",
      "metadata": {
        "colab": {
          "base_uri": "https://localhost:8080/"
        },
        "id": "Rt70DK5tjqEy",
        "outputId": "d5ddcb90-391b-4fc5-f015-c668c4107ea6"
      },
      "source": [
        "sequences = [x1, x2, x3]\n",
        "complexities = [L1, L2, L3]\n",
        "i = 1\n",
        "for x in sequences:\n",
        "  if(complexities[i-1] < len(x)/2):\n",
        "    print(\"x{}\".format(i), \"is predictable because\", complexities[i-1], \"<\", len(x)/2)\n",
        "  else:\n",
        "    print(\"x{}\".format(i), \"is unpredictable because\", complexities[i-1], \">\", len(x)/2)\n",
        "  i+=1"
      ],
      "execution_count": 33,
      "outputs": [
        {
          "output_type": "stream",
          "name": "stdout",
          "text": [
            "x1 is predictable because 31 < 42.0\n",
            "x2 is predictable because 31 < 45.0\n",
            "x3 is predictable because 31 < 44.5\n"
          ]
        }
      ]
    },
    {
      "cell_type": "markdown",
      "metadata": {
        "id": "21rcMPLU6QxS"
      },
      "source": [
        "# Question 7"
      ]
    },
    {
      "cell_type": "code",
      "metadata": {
        "colab": {
          "base_uri": "https://localhost:8080/"
        },
        "id": "UfH-lIwb9RQH",
        "outputId": "ef4ab20e-9cda-4ae4-8369-61cd90462b9e"
      },
      "source": [
        "pip install pylfsr"
      ],
      "execution_count": 57,
      "outputs": [
        {
          "output_type": "stream",
          "name": "stdout",
          "text": [
            "Collecting pylfsr\n",
            "  Downloading pylfsr-1.0.6-py3-none-any.whl (19 kB)\n",
            "Requirement already satisfied: matplotlib in /usr/local/lib/python3.7/dist-packages (from pylfsr) (3.2.2)\n",
            "Requirement already satisfied: numpy in /usr/local/lib/python3.7/dist-packages (from pylfsr) (1.19.5)\n",
            "Requirement already satisfied: kiwisolver>=1.0.1 in /usr/local/lib/python3.7/dist-packages (from matplotlib->pylfsr) (1.3.2)\n",
            "Requirement already satisfied: pyparsing!=2.0.4,!=2.1.2,!=2.1.6,>=2.0.1 in /usr/local/lib/python3.7/dist-packages (from matplotlib->pylfsr) (2.4.7)\n",
            "Requirement already satisfied: cycler>=0.10 in /usr/local/lib/python3.7/dist-packages (from matplotlib->pylfsr) (0.10.0)\n",
            "Requirement already satisfied: python-dateutil>=2.1 in /usr/local/lib/python3.7/dist-packages (from matplotlib->pylfsr) (2.8.2)\n",
            "Requirement already satisfied: six in /usr/local/lib/python3.7/dist-packages (from cycler>=0.10->matplotlib->pylfsr) (1.15.0)\n",
            "Installing collected packages: pylfsr\n",
            "Successfully installed pylfsr-1.0.6\n"
          ]
        }
      ]
    },
    {
      "cell_type": "code",
      "metadata": {
        "id": "MDzFldYd9Ron"
      },
      "source": [
        "import binascii\n",
        "import random\n",
        "import pylfsr"
      ],
      "execution_count": 58,
      "outputs": []
    },
    {
      "cell_type": "code",
      "metadata": {
        "id": "KKiHyXcS6krI"
      },
      "source": [
        "# Takes a text and converts it to binary using ASCII encoding\n",
        "def ASCII2bin(msg):\n",
        "    M_i = []\n",
        "    Mlen = len(msg)\n",
        "    for i in range(0,Mlen):\n",
        "        ascii_no = ord(msg[i])\n",
        "        ascii_bin = bin(ascii_no)\n",
        "        char_len = len(ascii_bin)\n",
        "        if(char_len<9):\n",
        "            for j in range(0,9-char_len):\n",
        "                M_i.append(0)\n",
        "        for j in range(2,char_len):\n",
        "            M_i.append(int(ascii_bin[j]))\n",
        "    return M_i\n",
        "\n",
        "# Retransformation to see the decrypted message\n",
        "def bin2ASCII(msg):\n",
        "    res = list()\n",
        "    for i in range(len(msg)//7):\n",
        "        bins = msg[:7]\n",
        "        str_bin = ''.join(str(x) for x in bins)\n",
        "        res.append(chr(int(str_bin,2)))\n",
        "        msg = msg[7:]\n",
        "    return \"\".join(res)\n",
        "\n",
        "def LFSR(C, S):\n",
        "    L = len(S)\n",
        "    fb = 0\n",
        "    out = S[L-1]\n",
        "    for i in range(0,L):\n",
        "        fb = fb^(S[i]&C[i+1])\n",
        "    for i in range(L-1,0,-1):\n",
        "        S[i] = S[i-1]\n",
        "\n",
        "    S[0] = fb\n",
        "    return out"
      ],
      "execution_count": 59,
      "outputs": []
    },
    {
      "cell_type": "code",
      "metadata": {
        "id": "-m_PefU36YZx"
      },
      "source": [
        "ctext =  [1, 1, 0, 1, 1, 1, 0, 0, 0, 1, 0, 0, 1, 1, 1, 0, 1, 1, 0, 1, 0, 1, 1, 1, 1, 1, 0, 1, 0, 1, 1, 1, 1, 0, 0, 0, 0, 0, 1, 0, 0, 0, 0, 1, 1, 1, 0, 1, 1, 1, 1, 1, 0, 1, 1, 0, 0, 0, 1, 0, 1, 0, 1, 0, 1, 1, 0, 1, 0, 0, 0, 1, 0, 0, 1, 1, 1, 0, 1, 1, 1, 1, 1, 1, 1, 1, 0, 1, 1, 0, 1, 0, 0, 1, 0, 0, 0, 0, 1, 1, 0, 0, 0, 1, 1, 1, 0, 0, 1, 0, 0, 1, 1, 0, 1, 1, 1, 1, 0, 0, 0, 1, 1, 0, 0, 0, 0, 1, 1, 0, 0, 1, 1, 0, 0, 0, 0, 0, 0, 0, 1, 1, 1, 1, 1, 1, 0, 1, 0, 0, 1, 1, 1, 0, 1, 0, 0, 0, 0, 0, 1, 1, 1, 1, 0, 1, 1, 1, 0, 1, 1, 0, 1, 0, 0, 0, 0, 0, 0, 1, 1, 1, 0, 0, 1, 1, 1, 0, 1, 1, 0, 1, 1, 1, 0, 1, 1, 0, 1, 0, 0, 0, 1, 0, 0, 0, 0, 1, 1, 1, 1, 0, 1, 1, 0, 0, 0, 1, 0, 1, 0, 0, 1, 0, 0, 1, 1, 1, 1, 1, 1, 0, 1, 1, 0, 0, 0, 1, 0, 0, 0, 1, 1, 0, 0, 0, 0, 0, 1, 1, 1, 1, 0, 1, 1, 0, 0, 0, 0, 1, 1, 1, 0, 1, 1, 0, 1, 1, 0, 1, 0, 0, 0, 1, 1, 1, 1, 0, 1, 1, 0, 1, 1, 0, 1, 0, 1, 0, 1, 1, 1, 0, 0, 0, 1, 0, 0, 1, 0, 0, 1, 1, 1, 0, 1, 0, 0, 1, 1, 1, 0, 0, 1, 0, 0, 0, 1, 0, 1, 0, 1, 0, 0, 0, 0, 1, 1, 1, 1, 0, 0, 1, 0, 1, 1, 0, 1, 0, 1, 0, 0, 1, 0, 0, 1, 1, 0, 0, 0, 1, 0, 0, 1, 1, 1, 1, 1, 1, 1, 0, 1, 1, 1, 1, 0, 0, 0, 0, 0, 1, 1, 0, 1, 0, 1, 1, 0, 0, 0, 1, 1, 1, 0, 0, 0, 1, 0, 0, 1, 1, 1, 0, 1, 1, 1, 0, 1, 1, 1, 1, 0, 1, 0, 1, 1, 0, 0, 0, 0, 0, 0, 0, 1, 1, 0, 1, 0, 0, 0, 1, 1, 0, 1, 1, 0, 0, 0, 1, 1, 1, 1, 0, 0, 0, 1, 0, 0, 0, 0, 1, 1, 1, 0, 0, 0, 1, 1, 1, 0, 0, 1, 0, 0, 0, 1, 0, 0, 0, 0, 1, 0, 1, 1, 1, 1, 1, 0, 1, 0, 0, 1, 0, 0, 0, 0, 1, 0, 1, 0, 1, 1, 1, 0, 1, 1, 1, 0, 0, 0, 1, 1, 1, 1, 1, 1, 1, 1, 1, 0, 0, 0, 1, 0, 0, 0, 1, 1, 1, 0, 0, 1, 0, 1, 0, 1, 0, 1, 0, 1, 1, 0, 0, 1, 1, 0, 0, 1, 0, 0, 0, 1, 0, 0, 0, 0, 0, 0, 0, 1, 1, 0, 0, 1, 1, 0, 0, 0, 0, 0, 0, 0, 1, 1, 0, 1, 0, 1, 1, 1, 0, 1, 1, 1, 0, 1, 0, 0, 1, 1, 0, 0, 1, 0, 1, 1, 1, 1, 1, 1, 0, 0, 0, 0, 1, 0, 1, 0, 0, 1, 1, 1, 0, 0, 1, 0, 0, 0, 1, 1, 1, 1, 0, 1, 0, 1, 0, 1, 1, 1, 0, 0, 1, 0, 1, 1, 1, 0, 1, 1, 0, 0, 0, 1, 1, 1, 0, 1, 1, 1, 0, 0, 0, 1, 0, 0, 0, 0, 1, 0, 1, 0, 1, 0, 0, 0, 1, 1, 0, 0, 1, 1, 1, 0, 1, 0, 1, 0, 0, 0, 0, 0, 0, 0, 0, 1, 1, 1, 0, 0, 0, 1, 0, 0, 1, 0, 0, 0, 0, 0, 0, 0, 1, 0, 0, 0, 1, 1, 1, 0, 1, 0, 1, 1, 0, 1, 1, 1, 1, 0, 1, 0, 0, 0, 0, 1, 1, 1, 1, 0, 0, 0, 1, 0, 1, 0, 1, 1, 1, 1, 0, 0, 1, 1, 1, 0, 1, 1, 0, 0, 0, 0, 1, 0, 0, 1, 0, 0, 1, 0, 0, 0, 1, 0, 0, 0, 0, 1, 0, 1, 1, 0, 1, 1, 0, 1, 1, 1, 0, 0, 1, 1, 0, 1, 0, 0, 1, 0, 0, 1, 1, 0, 1, 1, 0, 0, 0, 0, 0, 0, 1, 1, 0, 0, 1, 1, 0, 0, 1, 1, 0, 0, 0, 1, 0, 0, 1, 0, 1, 1, 0, 1, 1, 1, 0, 0, 0, 1, 1, 0, 1, 0, 0, 1, 0, 1, 1, 1, 1, 0, 0, 1, 0, 0, 0, 0, 0, 1, 1, 0, 1, 0, 0, 1, 0, 0, 1, 0, 1, 1, 0, 1, 0, 0, 1, 1, 0, 0, 1, 1, 0, 0, 0, 1, 1, 1, 0, 0, 1, 0, 0, 1, 1, 1, 0, 1, 0, 0, 0, 0, 0, 0, 0, 0, 1, 1, 0, 1, 1, 1, 0, 1, 1, 0, 1, 0, 0, 0, 0, 0, 1, 0, 0, 0, 1, 0, 0, 1, 0, 1, 1, 0, 0, 0, 1, 0, 1, 1, 1, 1, 0]"
      ],
      "execution_count": 52,
      "outputs": []
    },
    {
      "cell_type": "code",
      "metadata": {
        "id": "egEXLJQj6L0B"
      },
      "source": [
        "ptext = ASCII2bin(\"Erkay Savas\")\n",
        "length_known = len(ptext) \n",
        "\n",
        "keystream = [0]*len(ctext)\n",
        "counter = 0\n",
        "for i in range(len(ctext) - length_known, len(ctext)): \n",
        "  keystream[i] = ctext[i]^ptext[counter]\n",
        "  counter += 1"
      ],
      "execution_count": null,
      "outputs": []
    }
  ]
}